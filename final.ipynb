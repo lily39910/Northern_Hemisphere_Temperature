{
 "cells": [
  {
   "cell_type": "code",
   "execution_count": 1,
   "metadata": {},
   "outputs": [],
   "source": [
    "import pandas as pd\n",
    "import numpy as np\n",
    "import matplotlib.pyplot as plt\n",
    "from Dataset import *\n",
    "from Metric import *\n",
    "from Model import *\n",
    "from Preprocess import *\n",
    "from train import *\n",
    "from tqdm.auto import trange\n",
    "import torch.nn.functional as F"
   ]
  },
  {
   "cell_type": "code",
   "execution_count": 2,
   "metadata": {},
   "outputs": [],
   "source": [
    "device = torch.device(\"cuda\" if torch.cuda.is_available() else \"cpu\")"
   ]
  },
  {
   "cell_type": "code",
   "execution_count": 3,
   "metadata": {},
   "outputs": [],
   "source": [
    "data = pd.read_csv(\"data/final.csv\")\n",
    "\n",
    "data['YearMonth'] = pd.to_datetime(data['YearMonth'])\n",
    "data.set_index('YearMonth', inplace=True)\n",
    "data.head()\n",
    "m_data = data.copy()\n",
    "m2_data = data.copy()\n",
    "patch_data = data.copy()\n"
   ]
  },
  {
   "cell_type": "code",
   "execution_count": 4,
   "metadata": {},
   "outputs": [],
   "source": [
    "tst_size = 20\n",
    "trn, tst = data[:-tst_size], data[-tst_size:]"
   ]
  },
  {
   "cell_type": "markdown",
   "metadata": {},
   "source": [
    "## Stateful Lstm"
   ]
  },
  {
   "cell_type": "code",
   "execution_count": null,
   "metadata": {},
   "outputs": [],
   "source": [
    "# 변수 초기화\n",
    "\n",
    "#Lstm\n",
    "state_input_size = 2     #고정\n",
    "state_hidden_size = 32\n",
    "state_output_size = 2     #고정\n",
    "state_num_layers = 2\n",
    "state_batch_size = 128"
   ]
  },
  {
   "cell_type": "code",
   "execution_count": null,
   "metadata": {},
   "outputs": [],
   "source": [
    "statefullstm = StatefulLoadData(data,tst_size)\n",
    "state_trn_scaled, state_tst_scaled = statefullstm.scaling()\n",
    "#trn_scaled, tst_scaled"
   ]
  },
  {
   "cell_type": "code",
   "execution_count": null,
   "metadata": {},
   "outputs": [],
   "source": [
    "statefulmodel = StatefulLSTM(state_input_size,state_hidden_size,state_output_size,state_num_layers)\n",
    "statefulmodel.to(device)"
   ]
  },
  {
   "cell_type": "code",
   "execution_count": null,
   "metadata": {},
   "outputs": [],
   "source": [
    "trn_x = torch.tensor(state_trn_scaled[:-1]).split(state_batch_size)\n",
    "trn_y = torch.tensor(state_trn_scaled[1:]).split(state_batch_size)\n",
    "tst_y = torch.tensor(state_tst_scaled)"
   ]
  },
  {
   "cell_type": "code",
   "execution_count": null,
   "metadata": {},
   "outputs": [],
   "source": [
    "state_optim = torch.optim.AdamW(statefulmodel.parameters(), lr=0.0001)\n",
    "p=state_train_epoch(statefulmodel, 1000 , device, zip(trn_x,trn_y), state_optim, tst_y)\n",
    "#map , filter, zip"
   ]
  },
  {
   "cell_type": "code",
   "execution_count": null,
   "metadata": {},
   "outputs": [],
   "source": [
    "scaler = statefullstm.get_scaler()\n",
    "prd = scaler.inverse_transform(p.cpu()[:,:1])"
   ]
  },
  {
   "cell_type": "code",
   "execution_count": null,
   "metadata": {},
   "outputs": [],
   "source": [
    "plt.title(f\"LSTM (Stateful), MAPE:{mape(prd,tst.to_numpy()):.4f}, MAE:{mae(prd,tst.to_numpy()):.4f}, R2:{r2_score(prd,tst.to_numpy())}\")\n",
    "plt.plot(tst.Temperature.to_numpy(), label='TST')\n",
    "plt.plot(prd, label='PRD')\n",
    "plt.legend()\n",
    "plt.show()"
   ]
  },
  {
   "cell_type": "code",
   "execution_count": null,
   "metadata": {},
   "outputs": [],
   "source": [
    "torch.save(statefulmodel.state_dict(), './model/AdamW_0.002_StatefulLstm.pth')"
   ]
  },
  {
   "cell_type": "markdown",
   "metadata": {},
   "source": [
    "# Stateless Lstm"
   ]
  },
  {
   "cell_type": "code",
   "execution_count": null,
   "metadata": {},
   "outputs": [],
   "source": [
    "stateless_window_size = 64\n",
    "stateless_input_size = 2\n",
    "stateless_hidden_size = 32\n",
    "stateless_output_size = 2\n",
    "stateless_num_layers = 2\n",
    "\n",
    "asdf = StatelessLoadData(data, tst_size, stateless_window_size)\n",
    "stateless_trn_dl , stateless_tst_dl = asdf.scaling()"
   ]
  },
  {
   "cell_type": "code",
   "execution_count": null,
   "metadata": {},
   "outputs": [],
   "source": [
    "statelesslstm = StatelessLSTM(stateless_input_size , stateless_hidden_size , stateless_output_size , stateless_num_layers)\n",
    "statelesslstm.to(device)"
   ]
  },
  {
   "cell_type": "code",
   "execution_count": null,
   "metadata": {},
   "outputs": [],
   "source": [
    "x,y =next(iter(stateless_trn_dl))\n",
    "x.shape,y.shape"
   ]
  },
  {
   "cell_type": "code",
   "execution_count": null,
   "metadata": {},
   "outputs": [],
   "source": [
    "optim = torch.optim.AdamW(statelesslstm.parameters(), lr=0.0001)\n",
    "p2 = stateless_train_epoch(statelesslstm,10,device,stateless_trn_dl,optim,stateless_tst_dl, state_tst_scaled)"
   ]
  },
  {
   "cell_type": "code",
   "execution_count": null,
   "metadata": {},
   "outputs": [],
   "source": [
    "scaler = asdf.get_scaler()\n",
    "prd = scaler.inverse_transform(p2.cpu())\n",
    "# prd = p.cpu()\n",
    "\n",
    "plt.title(f\"LSTM (Look-back window), MAPE:{mape(prd,tst.to_numpy()):.4f}, MAE:{mae(prd,tst.to_numpy()):.4f}, R2:{r2_score(prd,tst.to_numpy())}\")\n",
    "plt.plot(tst.to_numpy()[:,:1], label='TST')\n",
    "plt.plot(prd, label='PRD')\n",
    "plt.legend()\n",
    "plt.show()"
   ]
  },
  {
   "cell_type": "markdown",
   "metadata": {},
   "source": [
    "# Single ANN"
   ]
  },
  {
   "cell_type": "code",
   "execution_count": null,
   "metadata": {},
   "outputs": [],
   "source": [
    "# dataset params\n",
    "single_lookback_size = 24\n",
    "single_forcast_size = 4 \n",
    "single_batch_size = 32\n",
    "\n",
    "# model params\n",
    "single_d_in = 24\n",
    "single_d_out = 4 \n",
    "single_d_hidden = 512\n",
    "\n",
    "anndataset = ANNLoadData(m_data,single_lookback_size,single_forcast_size,tst_size,single_batch_size)\n",
    "\n",
    "single_trn_dl , single_tst_dl, single_trn_ds = anndataset.scaling()"
   ]
  },
  {
   "cell_type": "code",
   "execution_count": null,
   "metadata": {},
   "outputs": [],
   "source": [
    "singleann = Net(single_d_in,single_d_out,single_d_hidden)"
   ]
  },
  {
   "cell_type": "code",
   "execution_count": null,
   "metadata": {},
   "outputs": [],
   "source": [
    "x, y = next(iter(single_trn_dl))\n",
    "\n",
    "x.shape, y.shape"
   ]
  },
  {
   "cell_type": "code",
   "execution_count": null,
   "metadata": {},
   "outputs": [],
   "source": [
    "singleann.to(device)\n",
    "optim = torch.optim.AdamW(singleann.parameters(), lr=0.0001)\n",
    "p3 = train_epoch(singleann , 500 , device, single_trn_dl, optim, single_trn_ds, single_tst_dl)"
   ]
  },
  {
   "cell_type": "code",
   "execution_count": null,
   "metadata": {},
   "outputs": [],
   "source": [
    "singleann.eval()\n",
    "with torch.inference_mode():\n",
    "  x, y = next(iter(single_tst_dl))\n",
    "  x, y = x.to(device), y.to(device)\n",
    "  p = singleann(x)\n",
    "\n",
    "scaler = anndataset.get_scaler()\n",
    "y = scaler.inverse_transform(y.cpu())\n",
    "p = scaler.inverse_transform(p.cpu())\n",
    "\n",
    "y = np.concatenate([y[:,0], y[-1,1:]])\n",
    "p = np.concatenate([p[:,0], p[-1,1:]])\n",
    "\n",
    "res_dict = {}\n",
    "\n",
    "plt.title(f\"Neural Network, MAPE:{mape(p,y):.4f}, MAE:{mae(p,y):.4f}, R2:{r2_score(p,y):.4f}\")\n",
    "plt.plot(range(tst_size), y, label=\"True\")\n",
    "plt.plot(range(tst_size), p, label=\"Prediction\")\n",
    "plt.legend()\n",
    "plt.show()\n",
    "\n",
    "res_dict.update({'NN(9,512,4)': {'MAPE':mape(p,y), 'MAE':mae(p,y)}})"
   ]
  },
  {
   "cell_type": "code",
   "execution_count": null,
   "metadata": {},
   "outputs": [],
   "source": [
    "# 장기예측\n",
    "window_size = single_lookback_size\n",
    "prediction_size = single_forcast_size\n",
    "preds = []\n",
    "tst_data  = data [-tst_size :]\n",
    "\n",
    "#device = torch.device(\"cuda:0\" if torch.cuda.is_available() else \"cpu\")\n",
    "singleann.to(device)\n",
    "\n",
    "# print(type(x), type(y))\n",
    "x, y = single_trn_ds[len(single_trn_ds)-1]\n",
    "\n",
    "for _ in range(tst_size):\n",
    "  #print(x.shape, y.shape)\n",
    "  y=y.squeeze()\n",
    "  #print(x.shape, y.shape)\n",
    "\n",
    "  x = np.concatenate([x,y])[-window_size:]\n",
    "  #x = x.flatten()\n",
    "  #y = y.flatten()\n",
    "    \n",
    "  x_tensor = torch.tensor(x, dtype=torch.float32).to(device)\n",
    "  #y = net(torch.tensor(x, dtype=torch.float32).to(device)) # your model\n",
    "  y=singleann(x_tensor)\n",
    "  y = y.detach().cpu().numpy()\n",
    "  y= y.reshape(1,prediction_size)\n",
    "  #print(x,y)\n",
    "  preds.append(y)\n",
    "\n",
    "preds = np.concatenate(preds, axis=0)\n",
    "preds = scaler.inverse_transform(preds).squeeze()\n",
    "#print(preds.shape)\n",
    "preds = preds[:,0]\n",
    "#print(preds.shape)\n",
    "\n",
    "mape2 = mape(preds,data.Temperature[-tst_size:].to_numpy())\n",
    "print(\"MAPE: \",mape2)\n",
    "mae2 = mae(preds,data.Temperature[-tst_size:].to_numpy())\n",
    "print(\"MAE: \",mae2)\n",
    "r2_score2 = r2_score(preds,data.Temperature[-tst_size:].to_numpy())\n",
    "print(\"R2_Score: \", r2_score2)\n",
    "\n",
    "# 장기예측 plot\n",
    "df = pd.DataFrame({\"ANN_long\": preds}, index=tst_data.index)\n",
    "trn, tst = data.Temperature[:-tst_size], data.Temperature[-tst_size:]\n",
    "ax = tst.plot(label=\"TRUE\")\n",
    "df.plot(ax=ax)"
   ]
  },
  {
   "cell_type": "markdown",
   "metadata": {},
   "source": [
    "# Multichannel ANN"
   ]
  },
  {
   "cell_type": "code",
   "execution_count": null,
   "metadata": {},
   "outputs": [],
   "source": [
    "#Multi Load Data\n",
    "multi_lookback_size = 20\n",
    "multi_forecast_size = 10\n",
    "multi_batch_size = 32\n",
    "#multi_window_size = 24\n",
    "# prediction_size = 4 여기 사용안하는것 같에요\n",
    "\n",
    "# Multi model\n",
    "multi_input_size = multi_lookback_size   #고정\n",
    "multi_hidden_size = 512\n",
    "multi_output_size = multi_forecast_size     #고정\n",
    "multi_channel_size = 3"
   ]
  },
  {
   "cell_type": "code",
   "execution_count": null,
   "metadata": {},
   "outputs": [],
   "source": [
    "#m_data = data.copy()\n",
    "m2_data['rolling_mean'] = m2_data.rolling(12).mean()\n",
    "m2_data['diff1'] = m2_data['Temperature'].diff(1)\n",
    "m2_data = m2_data.dropna()\n",
    "\n",
    "multidata = MultiANNLoadData(m2_data,multi_lookback_size,multi_forecast_size,tst_size,multi_batch_size)\n",
    "multi_trn_dl, multi_tst_dl , multi_trn_ds = multidata.scaling()"
   ]
  },
  {
   "cell_type": "code",
   "execution_count": null,
   "metadata": {},
   "outputs": [],
   "source": [
    "multimodel = NetMulti(multi_lookback_size,multi_output_size,multi_hidden_size,multi_channel_size)"
   ]
  },
  {
   "cell_type": "markdown",
   "metadata": {},
   "source": [
    "- 40개월   ex) 60을 보고 40을 예측  /  1개월씩 40을 예측  /  4개월씩 10번\n",
    "- 목표를 설정하고 그것을 이루기 위해 시도한 방법들 소개!"
   ]
  },
  {
   "cell_type": "code",
   "execution_count": null,
   "metadata": {},
   "outputs": [],
   "source": [
    "multimodel.cuda()\n",
    "\n",
    "optim = torch.optim.AdamW(multimodel.parameters(), lr=0.0001)\n",
    "train_epoch(multimodel,1000,device,multi_trn_dl,optim,multi_trn_ds, multi_tst_dl)"
   ]
  },
  {
   "cell_type": "code",
   "execution_count": null,
   "metadata": {},
   "outputs": [],
   "source": [
    "torch.save(multimodel.state_dict(), 'model/AdamW_lookback20_forecast10_multichannel.pth')"
   ]
  },
  {
   "cell_type": "markdown",
   "metadata": {},
   "source": [
    "# 단기"
   ]
  },
  {
   "cell_type": "code",
   "execution_count": null,
   "metadata": {},
   "outputs": [],
   "source": [
    "scaler = multidata.get_scaler()\n",
    "res_dict = {}\n",
    "\n",
    "multimodel.eval()\n",
    "multimodel.to('cuda')\n",
    "with torch.inference_mode():\n",
    "  x, y = next(iter(multi_tst_dl))\n",
    "  #print(y.shape) #17,4,3\n",
    "  y=y.reshape(-1,multi_channel_size)\n",
    "  y=scaler.inverse_transform(y.cpu().numpy())\n",
    "  y=y.reshape(-1,multi_forecast_size,multi_channel_size)\n",
    "  x, y = x.flatten(1), y[:,:,0] #17,4    0번째 채널을 뽑고있다.\n",
    "\n",
    "  x = x.to('cuda')\n",
    "  #p = Multinet(x)[:,:,0]\n",
    "  p = multimodel(x)\n",
    "  #print(p.shape)\n",
    "  p = p.reshape(-1,multi_channel_size)\n",
    "  p=p.cpu()\n",
    "  p=scaler.inverse_transform(p.numpy())\n",
    "  #print(p.shape)\n",
    "  p = p.reshape(-1,multi_forecast_size,multi_channel_size)\n",
    "\n",
    "y = np.concatenate([y[:,0], y[-1,1:]])\n",
    "p = np.concatenate([p[:,0], p[-1,1:]])\n",
    "#print(y,p)\n",
    "#print(y.shape,p.shape)\n",
    "p = p[:,0]\n",
    "#inverse_preds = scaler.inverse_transform(p.reshape(-1,3))\n",
    "\n",
    "\n",
    "plt.title(f\"Multi Neural Network, MAPE:{mape(p,y):.4f}, MAE:{mae(p,y):.4f}, R2:{r2_score(p,y):.4f}\")\n",
    "plt.plot(range(tst_size), y, label=\"True\")\n",
    "plt.plot(range(tst_size), p, label=\"Prediction\")\n",
    "plt.legend()\n",
    "plt.show()\n",
    "\n",
    "res_dict.update({'NN(9*2, 512, 4)': {'MAPE':mape(p,y), 'MAE':mae(p,y),  'R2':r2_score(p,y)}})"
   ]
  },
  {
   "cell_type": "markdown",
   "metadata": {},
   "source": [
    "# 장기"
   ]
  },
  {
   "cell_type": "code",
   "execution_count": null,
   "metadata": {},
   "outputs": [],
   "source": [
    "# 장기예측\n",
    "window_size = multi_lookback_size\n",
    "prediction_size = multi_forecast_size\n",
    "preds = []\n",
    "multimodel.to(device)\n",
    "\n",
    "# print(type(x), type(y))\n",
    "x, y = multi_trn_ds[len(multi_trn_ds)-1]\n",
    "#print(y)\n",
    "#print(x.shape , y.shape)"
   ]
  },
  {
   "cell_type": "code",
   "execution_count": null,
   "metadata": {},
   "outputs": [],
   "source": [
    "preds = []\n",
    "\n",
    "for i in range(tst_size):\n",
    "  y = y.squeeze()\n",
    "  # print(i, x.shape, y.shape)\n",
    "  x = np.concatenate([x,y])[-window_size:]\n",
    "    \n",
    "  x_tensor = torch.tensor(x, dtype=torch.float32).unsqueeze(0).to(device)\n",
    "  # print(x_tensor.shape)\n",
    "  y = multimodel(x_tensor)\n",
    "  # print(y.shape)\n",
    "  y = y.detach().cpu().numpy()\n",
    "  # y = y.reshape(1,prediction_size)\n",
    "  #print(x,y)\n",
    "  preds.append(y)\n",
    "  # print(i, x.shape, y.shape)\n",
    "\n",
    "preds = np.concatenate(preds, axis=0)\n",
    "inverse_preds = scaler.inverse_transform(preds.reshape(-1,3)).reshape(-1,multi_forecast_size,3)\n",
    "\n",
    "final_preds = inverse_preds[:, 0,0]\n",
    "print(final_preds.shape)\n",
    "\n",
    "mape2 = mape(final_preds,data.Temperature[-tst_size:].to_numpy())\n",
    "print(\"MAPE: \",mape2)\n",
    "mae2 = mae(final_preds,data.Temperature[-tst_size:].to_numpy())\n",
    "print(\"MAE: \",mae2)\n",
    "r2_score2 = r2_score(final_preds,data.Temperature[-tst_size:].to_numpy())\n",
    "print(\"R2_Score: \", r2_score2)\n",
    "\n",
    "# 장기예측 plot\n",
    "df = pd.DataFrame({\"ANN_long\": final_preds}, index=tst.index)\n",
    "trn, tst = data.Temperature[:-tst_size], data.Temperature[-tst_size:]\n",
    "ax = tst.plot(label=\"TRUE\")\n",
    "df.plot(ax=ax)"
   ]
  },
  {
   "cell_type": "markdown",
   "metadata": {},
   "source": [
    "# PatchTST"
   ]
  },
  {
   "cell_type": "code",
   "execution_count": 15,
   "metadata": {},
   "outputs": [],
   "source": [
    "#test_size = 20\n",
    "#초기화\n",
    "#patch_size = 4 #고정\n",
    "#(batch, n_patchs, patch_length)\n",
    "#근까 patch length가 patch size랑 같은말아님?????\n",
    "patch_length = 16 #고정\n",
    "n_patch = 4\n",
    "n_token = 64   #조정\n",
    "patch_batch_size = 32\n",
    "patch_model_dim = 128 #고정\n",
    "patch_num_heads = 16   #고정\n",
    "patch_num_layers = 3   #고정\n",
    "patch_output_dim = tst_size  #고정"
   ]
  },
  {
   "cell_type": "code",
   "execution_count": 16,
   "metadata": {},
   "outputs": [],
   "source": [
    "patchdata = PatchLoadData(patch_data, n_patch, patch_length, tst_size, patch_batch_size)\n",
    "patch_trn_dl , patch_tst_dl, patch_trn_ds = patchdata.scaling()"
   ]
  },
  {
   "cell_type": "code",
   "execution_count": 17,
   "metadata": {},
   "outputs": [
    {
     "data": {
      "text/plain": [
       "PatchTST(\n",
       "  (patch_embedding): Linear(in_features=16, out_features=128, bias=True)\n",
       "  (transformer_encoder): TransformerEncoder(\n",
       "    (layers): ModuleList(\n",
       "      (0-2): 3 x TransformerEncoderLayer(\n",
       "        (self_attn): MultiheadAttention(\n",
       "          (out_proj): NonDynamicallyQuantizableLinear(in_features=128, out_features=128, bias=True)\n",
       "        )\n",
       "        (linear1): Linear(in_features=128, out_features=2048, bias=True)\n",
       "        (dropout): Dropout(p=0.1, inplace=False)\n",
       "        (linear2): Linear(in_features=2048, out_features=128, bias=True)\n",
       "        (norm1): LayerNorm((128,), eps=1e-05, elementwise_affine=True)\n",
       "        (norm2): LayerNorm((128,), eps=1e-05, elementwise_affine=True)\n",
       "        (dropout1): Dropout(p=0.1, inplace=False)\n",
       "        (dropout2): Dropout(p=0.1, inplace=False)\n",
       "      )\n",
       "    )\n",
       "  )\n",
       "  (output_layer): Linear(in_features=512, out_features=20, bias=True)\n",
       ")"
      ]
     },
     "execution_count": 17,
     "metadata": {},
     "output_type": "execute_result"
    }
   ],
   "source": [
    "patchmodel = PatchTST(n_patch, patch_length, patch_model_dim, patch_num_heads, patch_num_layers, patch_output_dim)\n",
    "patchmodel.cuda()"
   ]
  },
  {
   "cell_type": "code",
   "execution_count": 18,
   "metadata": {},
   "outputs": [
    {
     "data": {
      "text/plain": [
       "(torch.Size([32, 4, 16]), torch.Size([32, 20]))"
      ]
     },
     "execution_count": 18,
     "metadata": {},
     "output_type": "execute_result"
    }
   ],
   "source": [
    "a,b = next(iter(patch_trn_dl))\n",
    "a.shape,b.shape"
   ]
  },
  {
   "cell_type": "code",
   "execution_count": 19,
   "metadata": {},
   "outputs": [
    {
     "data": {
      "application/vnd.jupyter.widget-view+json": {
       "model_id": "7e322796bde346bebb7581a3806f5fa8",
       "version_major": 2,
       "version_minor": 0
      },
      "text/plain": [
       "  0%|          | 0/100 [00:00<?, ?it/s]"
      ]
     },
     "metadata": {},
     "output_type": "display_data"
    },
    {
     "data": {
      "text/plain": [
       "tensor([[0.7684, 0.7410, 0.7402, 0.7336, 0.7491, 0.7507, 0.7662, 0.7627, 0.7626,\n",
       "         0.7627, 0.7618, 0.7695, 0.7508, 0.7317, 0.7262, 0.7513, 0.7611, 0.7611,\n",
       "         0.7882, 0.7977]], device='cuda:0')"
      ]
     },
     "execution_count": 19,
     "metadata": {},
     "output_type": "execute_result"
    }
   ],
   "source": [
    "optim = torch.optim.AdamW(patchmodel.parameters(), lr=0.0001)\n",
    "train_epoch(patchmodel,100,device,patch_trn_dl,optim,patch_trn_ds, patch_tst_dl)"
   ]
  },
  {
   "cell_type": "code",
   "execution_count": 20,
   "metadata": {},
   "outputs": [
    {
     "data": {
      "image/png": "[encoded data removed]",
      "text/plain": [
       "<Figure size 640x480 with 1 Axes>"
      ]
     },
     "metadata": {},
     "output_type": "display_data"
    }
   ],
   "source": [
    "scaler = patchdata.get_scaler()\n",
    "\n",
    "patchmodel.eval()\n",
    "with torch.inference_mode():\n",
    "  x, y = next(iter(patch_tst_dl))\n",
    "  x, y = x.cuda(), y.cuda()\n",
    "  p = patchmodel(x)\n",
    "\n",
    "y = scaler.inverse_transform(y.cpu())\n",
    "p = scaler.inverse_transform(p.cpu())\n",
    "\n",
    "y = np.concatenate([y[:,0], y[-1,1:]])\n",
    "p = np.concatenate([p[:,0], p[-1,1:]])\n",
    "\n",
    "plt.title(f\"PatchTST (extended dataset), MAPE:{mape(p,y):.4f}, MAE:{mae(p,y):.4f}, R2:{r2_score(p,y):.4f}\")\n",
    "plt.plot(range(tst_size), y, label=\"True\")\n",
    "plt.plot(range(tst_size), p, label=\"Prediction\")\n",
    "plt.legend()\n",
    "plt.show()"
   ]
  },
  {
   "cell_type": "code",
   "execution_count": 27,
   "metadata": {},
   "outputs": [
    {
     "name": "stdout",
     "output_type": "stream",
     "text": [
      "(64,)\n"
     ]
    }
   ],
   "source": [
    "window_size = n_patch * patch_length\n",
    "eval = trn[-window_size:]\n",
    "eval = eval.to_numpy()\n",
    "\n",
    "last8 = eval[-1]\n",
    "eval = eval.squeeze()\n",
    "print(eval.shape)\n",
    "eval_concat = np.concatenate([eval, last8*np.ones(8,dtype=np.float32)])"
   ]
  },
  {
   "cell_type": "code",
   "execution_count": 31,
   "metadata": {},
   "outputs": [],
   "source": [
    "eval_concat.shape\n",
    "eval_concat\n",
    "x = np.array([eval_concat[i*8:(i+2)*8] for i in range(4)])"
   ]
  },
  {
   "cell_type": "code",
   "execution_count": 33,
   "metadata": {},
   "outputs": [
    {
     "data": {
      "text/plain": [
       "tensor([[0.7632, 0.7111, 0.7379, 0.7265, 0.7276, 0.7487, 0.7175, 0.6971, 0.6456,\n",
       "         0.6395, 0.6641, 0.6934, 0.7186, 0.6851, 0.7178, 0.7569, 0.7621, 0.7722,\n",
       "         0.7533, 0.7549]], device='cuda:0', grad_fn=<SigmoidBackward0>)"
      ]
     },
     "execution_count": 33,
     "metadata": {},
     "output_type": "execute_result"
    }
   ],
   "source": [
    "x_tensor = torch.tensor(x, dtype=torch.float32).to(device)\n",
    "y=patchmodel(x_tensor)\n",
    "\n",
    "y"
   ]
  },
  {
   "cell_type": "code",
   "execution_count": 36,
   "metadata": {},
   "outputs": [],
   "source": [
    "y = y.detach().cpu().numpy()\n",
    "scaler = patchdata.get_scaler()\n",
    "preds = scaler.inverse_transform(y).squeeze()"
   ]
  },
  {
   "cell_type": "code",
   "execution_count": 37,
   "metadata": {},
   "outputs": [
    {
     "data": {
      "text/plain": [
       "array([1.1231081 , 0.94318587, 1.0355889 , 0.99647665, 1.0002145 ,\n",
       "       1.072933  , 0.9653207 , 0.895155  , 0.7174816 , 0.69611293,\n",
       "       0.7811422 , 0.88217056, 0.96912706, 0.85368234, 0.96651137,\n",
       "       1.1011832 , 1.1190937 , 1.1542482 , 1.0888666 , 1.0944935 ],\n",
       "      dtype=float32)"
      ]
     },
     "execution_count": 37,
     "metadata": {},
     "output_type": "execute_result"
    }
   ],
   "source": [
    "preds"
   ]
  },
  {
   "cell_type": "code",
   "execution_count": 38,
   "metadata": {},
   "outputs": [
    {
     "name": "stdout",
     "output_type": "stream",
     "text": [
      "MAPE:  15.513314857914034\n",
      "MAE:  0.18884203112125397\n",
      "R2_Score:  -4.5057941430717054\n"
     ]
    },
    {
     "data": {
      "text/plain": [
       "<Axes: xlabel='YearMonth'>"
      ]
     },
     "execution_count": 38,
     "metadata": {},
     "output_type": "execute_result"
    },
    {
     "data": {
      "image/png": "[encoded data removed]",
      "text/plain": [
       "<Figure size 640x480 with 1 Axes>"
      ]
     },
     "metadata": {},
     "output_type": "display_data"
    }
   ],
   "source": [
    "mape2 = mape(preds,data.Temperature[-tst_size:].to_numpy())\n",
    "print(\"MAPE: \",mape2)\n",
    "mae2 = mae(preds,data.Temperature[-tst_size:].to_numpy())\n",
    "print(\"MAE: \",mae2)\n",
    "r2_score2 = r2_score(preds,data.Temperature[-tst_size:].to_numpy())\n",
    "print(\"R2_Score: \", r2_score2)\n",
    "\n",
    "# 장기예측 plot\n",
    "#plt.title(f\"PatchTST (extended dataset), MAPE:{mape(preds,data.Temperature[-20:].to_numpy()):.4f}, MAE:{mae(preds,data.Temperature[-20:].to_numpy()):.4f}, R2:{r2_score(preds,data.Temperature[-20:].to_numpy())(p,y):.4f}\")\n",
    "df = pd.DataFrame({\"Patch_long\": preds}, index=tst.index)\n",
    "trn, tst = data.Temperature[:-tst_size], data.Temperature[-tst_size:]\n",
    "ax = tst.plot(label=\"TRUE\")\n",
    "df.plot(ax=ax)"
   ]
  },
  {
   "cell_type": "code",
   "execution_count": null,
   "metadata": {},
   "outputs": [],
   "source": [
    "torch.save(patchmodel.state_dict(), 'model/n_patch12_patchTST.pth')"
   ]
  }
 ],
 "metadata": {
  "kernelspec": {
   "display_name": "MathAI",
   "language": "python",
   "name": "python3"
  },
  "language_info": {
   "codemirror_mode": {
    "name": "ipython",
    "version": 3
   },
   "file_extension": ".py",
   "mimetype": "text/x-python",
   "name": "python",
   "nbconvert_exporter": "python",
   "pygments_lexer": "ipython3",
   "version": "3.10.13"
  }
 },
 "nbformat": 4,
 "nbformat_minor": 2
}
