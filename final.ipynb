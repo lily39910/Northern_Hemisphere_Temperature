{
 "cells": [
  {
   "cell_type": "code",
   "execution_count": 1,
   "metadata": {},
   "outputs": [],
   "source": [
    "import pandas as pd\n",
    "import numpy as np\n",
    "import matplotlib.pyplot as plt\n",
    "from Dataset import *\n",
    "from Metric import *\n",
    "from Model import *\n",
    "from Preprocess import *\n",
    "from tqdm.auto import trange\n",
    "import torch.nn.functional as F"
   ]
  },
  {
   "cell_type": "markdown",
   "metadata": {},
   "source": [
    "##Stateful Lstm"
   ]
  },
  {
   "cell_type": "code",
   "execution_count": 2,
   "metadata": {},
   "outputs": [],
   "source": [
    "data = pd.read_csv(\"data/final.csv\")\n",
    "\n",
    "data['YearMonth'] = pd.to_datetime(data['YearMonth'])\n",
    "data.set_index('YearMonth', inplace=True)\n",
    "data.head()\n",
    "m_data = data.copy()\n",
    "m2_data = data.copy()"
   ]
  },
  {
   "cell_type": "code",
   "execution_count": 3,
   "metadata": {},
   "outputs": [],
   "source": [
    "tst_size = 20\n",
    "trn, tst = data[:-tst_size], data[-tst_size:]"
   ]
  },
  {
   "cell_type": "code",
   "execution_count": null,
   "metadata": {},
   "outputs": [],
   "source": [
    "statefullstm = StatefulLoadData(data,20)\n",
    "trn_scaled, tst_scaled = statefullstm.scaling()\n",
    "#trn_scaled, tst_scaled"
   ]
  },
  {
   "cell_type": "code",
   "execution_count": 4,
   "metadata": {},
   "outputs": [],
   "source": [
    "device = torch.device(\"cuda\" if torch.cuda.is_available() else \"cpu\")"
   ]
  },
  {
   "cell_type": "code",
   "execution_count": null,
   "metadata": {},
   "outputs": [],
   "source": [
    "statefulmodel = StatefulLSTM(2,32,2,4)\n",
    "statefulmodel.to(device)"
   ]
  },
  {
   "cell_type": "code",
   "execution_count": null,
   "metadata": {},
   "outputs": [],
   "source": [
    "batch_size = 128\n",
    "trn_x = torch.tensor(trn_scaled[:-1]).split(batch_size)\n",
    "trn_y = torch.tensor(trn_scaled[1:]).split(batch_size)\n",
    "\n",
    "tst_y = torch.tensor(tst_scaled)"
   ]
  },
  {
   "cell_type": "code",
   "execution_count": null,
   "metadata": {},
   "outputs": [],
   "source": [
    "optim = torch.optim.AdamW(statefulmodel.parameters(), lr=0.002)\n",
    "\n",
    "pbar = trange(50)\n",
    "for e in pbar:\n",
    "  statefulmodel.train()\n",
    "  statefulmodel.reset_state()\n",
    "  trn_loss = .0\n",
    "  for x, y in zip(trn_x, trn_y):\n",
    "    x, y = x.to(device), y.to(device)\n",
    "    optim.zero_grad()\n",
    "    p = statefulmodel(x)\n",
    "    loss = F.mse_loss(p, y)\n",
    "    loss.backward()\n",
    "    optim.step()\n",
    "    trn_loss += loss.item()\n",
    "  trn_loss /= len(trn)-1\n",
    "\n",
    "  statefulmodel.eval()\n",
    "  with torch.inference_mode():\n",
    "    p = statefulmodel.predict(y[-1:].to(device), len(tst_y))\n",
    "    tst_loss = F.mse_loss(p, tst_y.to(device)).item()\n",
    "  pbar.set_postfix({'trn_loss': trn_loss, 'tst_loss': tst_loss})"
   ]
  },
  {
   "cell_type": "code",
   "execution_count": null,
   "metadata": {},
   "outputs": [],
   "source": [
    "scaler = statefullstm.get_scaler()\n",
    "prd = scaler.inverse_transform(p.cpu()[:,:1])"
   ]
  },
  {
   "cell_type": "code",
   "execution_count": null,
   "metadata": {},
   "outputs": [],
   "source": [
    "plt.title(f\"LSTM (Stateful), MAPE:{mape(prd,tst.to_numpy()):.4f}, MAE:{mae(prd,tst.to_numpy()):.4f}, R2:{r2_score(prd,tst.to_numpy())}\")\n",
    "plt.plot(tst.Temperature.to_numpy(), label='TST')\n",
    "plt.plot(prd, label='PRD')\n",
    "plt.legend()\n",
    "plt.show()"
   ]
  },
  {
   "cell_type": "markdown",
   "metadata": {},
   "source": [
    "# ??"
   ]
  },
  {
   "cell_type": "code",
   "execution_count": null,
   "metadata": {},
   "outputs": [],
   "source": [
    "torch.save(statefulmodel.state_dict(), './AdamW_0.002_StatefulLstm.pth')"
   ]
  },
  {
   "cell_type": "markdown",
   "metadata": {},
   "source": [
    "# Stateless Lstm"
   ]
  },
  {
   "cell_type": "code",
   "execution_count": null,
   "metadata": {},
   "outputs": [],
   "source": [
    "asdf = StatelessLoadData(data, 20, 64)\n",
    "trn_dl , tst_dl = asdf.scaling()"
   ]
  },
  {
   "cell_type": "code",
   "execution_count": null,
   "metadata": {},
   "outputs": [],
   "source": [
    "statelesslstm = StatelessLSTM(2,32,2,2)\n",
    "statelesslstm.to(device)"
   ]
  },
  {
   "cell_type": "code",
   "execution_count": null,
   "metadata": {},
   "outputs": [],
   "source": [
    "x,y =next(iter(trn_dl))\n",
    "x.shape,y.shape"
   ]
  },
  {
   "cell_type": "code",
   "execution_count": null,
   "metadata": {},
   "outputs": [],
   "source": [
    "type(x),type(y)"
   ]
  },
  {
   "cell_type": "code",
   "execution_count": null,
   "metadata": {},
   "outputs": [],
   "source": [
    "optim = torch.optim.AdamW(statelesslstm.parameters(), lr=0.0001)\n",
    "\n",
    "pbar = trange(50)\n",
    "for e in pbar:\n",
    "  statelesslstm.train()\n",
    "  trn_loss = .0\n",
    "  for x, y in trn_dl:\n",
    "    #print(x.shape, y.shape)\n",
    "    #print(y)\n",
    "    x, y = x.to(device), y.to(device)\n",
    "    optim.zero_grad()\n",
    "    p = statelesslstm(x)\n",
    "    loss = F.mse_loss(p, y)\n",
    "    loss.backward()\n",
    "    optim.step()\n",
    "    trn_loss += loss.item()\n",
    "\n",
    "  trn_loss /= len(trn)-1\n",
    "\n",
    "  statelesslstm.eval()\n",
    "  with torch.inference_mode():\n",
    "    x, y = next(iter(tst_dl))\n",
    "    p = statelesslstm.predict(x[0].to(device), len(tst_scaled))[:,:1]\n",
    "    tst_loss = F.mse_loss(p, torch.tensor(tst_scaled[:,:1]).view(-1,1).to(device)).item()\n",
    "  pbar.set_postfix({'trn_loss': trn_loss, 'tst_loss': tst_loss})"
   ]
  },
  {
   "cell_type": "code",
   "execution_count": null,
   "metadata": {},
   "outputs": [],
   "source": [
    "scaler = asdf.get_scaler()\n",
    "prd = scaler.inverse_transform(p.cpu())\n",
    "# prd = p.cpu()\n",
    "\n",
    "plt.title(f\"LSTM (Look-back window), MAPE:{mape(prd,tst.to_numpy()):.4f}, MAE:{mae(prd,tst.to_numpy()):.4f}, R2:{r2_score(prd,tst.to_numpy())}\")\n",
    "plt.plot(tst.to_numpy()[:,:1], label='TST')\n",
    "plt.plot(prd, label='PRD')\n",
    "plt.legend()\n",
    "plt.show()"
   ]
  },
  {
   "cell_type": "markdown",
   "metadata": {},
   "source": [
    "# Single ANN"
   ]
  },
  {
   "cell_type": "code",
   "execution_count": null,
   "metadata": {},
   "outputs": [],
   "source": [
    "\n",
    "anndataset = ANNLoadData(m_data,24,4,20,32)\n",
    "trn_dl , tst_dl, trn_ds = anndataset.scaling()"
   ]
  },
  {
   "cell_type": "code",
   "execution_count": null,
   "metadata": {},
   "outputs": [],
   "source": [
    "singleann = Net(24,4,512)"
   ]
  },
  {
   "cell_type": "code",
   "execution_count": null,
   "metadata": {},
   "outputs": [],
   "source": [
    "x, y = next(iter(trn_dl))\n",
    "\n",
    "x.shape, y.shape"
   ]
  },
  {
   "cell_type": "code",
   "execution_count": null,
   "metadata": {},
   "outputs": [],
   "source": [
    "singleann.to(device)\n",
    "\n",
    "optim = torch.optim.AdamW(singleann.parameters(), lr=0.0001)\n",
    "\n",
    "pbar = trange(1000)\n",
    "for i in pbar:\n",
    "  singleann.train()\n",
    "  trn_loss = .0\n",
    "  for x, y in trn_dl:\n",
    "    x, y = x.to(device), y.to(device)\n",
    "    #print(x,y)\n",
    "    p = singleann(x)\n",
    "    #print(p)\n",
    "    optim.zero_grad()\n",
    "    loss = F.mse_loss(p, y)\n",
    "    #print(loss)\n",
    "    loss.backward()\n",
    "    optim.step()\n",
    "    trn_loss += loss.item()*len(y)\n",
    "  trn_loss = trn_loss/len(trn_ds)\n",
    "\n",
    "  singleann.eval()\n",
    "  with torch.inference_mode():\n",
    "    x, y = next(iter(tst_dl))\n",
    "    x, y = x.to(device), y.to(device)\n",
    "    p = singleann(x)\n",
    "    tst_loss = F.mse_loss(p,y)\n",
    "    # tst_mape = mape(p,y)\n",
    "    # tst_mae = mae(p,y)\n",
    "  pbar.set_postfix({'loss':trn_loss, 'tst_loss':tst_loss.item()})#, 'tst_mape':tst_mape.item(), 'tst_mae':tst_mae.item()})"
   ]
  },
  {
   "cell_type": "code",
   "execution_count": null,
   "metadata": {},
   "outputs": [],
   "source": [
    "singleann.eval()\n",
    "with torch.inference_mode():\n",
    "  x, y = next(iter(tst_dl))\n",
    "  x, y = x.to(device), y.to(device)\n",
    "  p = singleann(x)\n",
    "  \n",
    "scaler = anndataset.get_scaler()\n",
    "y = scaler.inverse_transform(y.cpu())\n",
    "p = scaler.inverse_transform(p.cpu())\n",
    "\n",
    "y = np.concatenate([y[:,0], y[-1,1:]])\n",
    "p = np.concatenate([p[:,0], p[-1,1:]])\n",
    "\n",
    "res_dict = {}\n",
    "\n",
    "plt.title(f\"Neural Network, MAPE:{mape(p,y):.4f}, MAE:{mae(p,y):.4f}, R2:{r2_score(p,y):.4f}\")\n",
    "plt.plot(range(tst_size), y, label=\"True\")\n",
    "plt.plot(range(tst_size), p, label=\"Prediction\")\n",
    "plt.legend()\n",
    "plt.show()\n",
    "\n",
    "res_dict.update({'NN(9,512,4)': {'MAPE':mape(p,y), 'MAE':mae(p,y)}})"
   ]
  },
  {
   "cell_type": "code",
   "execution_count": null,
   "metadata": {},
   "outputs": [],
   "source": [
    "# 장기예측\n",
    "window_size = 24\n",
    "prediction_size = 4\n",
    "preds = []\n",
    "tst_data  = data [-tst_size :]\n",
    "\n",
    "device = torch.device(\"cuda:0\" if torch.cuda.is_available() else \"cpu\")\n",
    "singleann.to(device)\n",
    "\n",
    "# print(type(x), type(y))\n",
    "x, y = trn_ds[len(trn_ds)-1]\n",
    "\n",
    "for _ in range(tst_size):\n",
    "  #print(x.shape, y.shape)\n",
    "  y=y.squeeze()\n",
    "  #print(x.shape, y.shape)\n",
    "\n",
    "  x = np.concatenate([x,y])[-window_size:]\n",
    "  #x = x.flatten()\n",
    "  #y = y.flatten()\n",
    "    \n",
    "  x_tensor = torch.tensor(x, dtype=torch.float32).to(device)\n",
    "  #y = net(torch.tensor(x, dtype=torch.float32).to(device)) # your model\n",
    "  y=singleann(x_tensor)\n",
    "  y = y.detach().cpu().numpy()\n",
    "  y= y.reshape(1,prediction_size)\n",
    "  #print(x,y)\n",
    "  preds.append(y)\n",
    "\n",
    "preds = np.concatenate(preds, axis=0)\n",
    "preds = scaler.inverse_transform(preds).squeeze()\n",
    "print(preds.shape)\n",
    "preds = preds[:,0]\n",
    "print(preds.shape)\n",
    "\n",
    "mape2 = mape(preds,data.Temperature[-tst_size:].to_numpy())\n",
    "print(\"MAPE: \",mape2)\n",
    "mae2 = mae(preds,data.Temperature[-tst_size:].to_numpy())\n",
    "print(\"MAE: \",mae2)\n",
    "r2_score2 = r2_score(preds,data.Temperature[-tst_size:].to_numpy())\n",
    "print(\"R2_Score: \", r2_score2)\n",
    "\n",
    "# 장기예측 plot\n",
    "df = pd.DataFrame({\"ANN_long\": preds}, index=tst_data.index)\n",
    "trn, tst = data.Temperature[:-tst_size], data.Temperature[-tst_size:]\n",
    "ax = tst.plot(label=\"TRUE\")\n",
    "df.plot(ax=ax)"
   ]
  },
  {
   "cell_type": "markdown",
   "metadata": {},
   "source": [
    "# Multichannel ANN"
   ]
  },
  {
   "cell_type": "code",
   "execution_count": 5,
   "metadata": {},
   "outputs": [],
   "source": [
    "#m_data = data.copy()\n",
    "m2_data['rolling_mean'] = data.rolling(12).mean()\n",
    "m2_data['diff1'] = data.diff(1)\n",
    "m2_data = m2_data.dropna()\n",
    "\n",
    "multidata = MultiANNLoadData(m2_data,24,4,20,32)\n",
    "trn_dl, tst_dl , trn_ds = multidata.scaling()"
   ]
  },
  {
   "cell_type": "code",
   "execution_count": null,
   "metadata": {},
   "outputs": [],
   "source": []
  },
  {
   "cell_type": "code",
   "execution_count": 6,
   "metadata": {},
   "outputs": [
    {
     "data": {
      "text/plain": [
       "(torch.Size([32, 24, 3]), torch.Size([32, 4, 3]))"
      ]
     },
     "execution_count": 6,
     "metadata": {},
     "output_type": "execute_result"
    }
   ],
   "source": [
    "a,b = next(iter(trn_dl))\n",
    "a.shape,b.shape"
   ]
  },
  {
   "cell_type": "code",
   "execution_count": 7,
   "metadata": {},
   "outputs": [],
   "source": [
    "multimodel = NetMulti(24,4,512,3)"
   ]
  },
  {
   "cell_type": "markdown",
   "metadata": {},
   "source": [
    "- 40개월   ex) 60을 보고 40을 예측  /  1개월씩 40을 예측  /  4개월씩 10번\n",
    "- 목표를 설정하고 그것을 이루기 위해 시도한 방법들 소개!"
   ]
  },
  {
   "cell_type": "code",
   "execution_count": 9,
   "metadata": {},
   "outputs": [
    {
     "data": {
      "application/vnd.jupyter.widget-view+json": {
       "model_id": "52d261be7ed14d14beb7b25285dc6a86",
       "version_major": 2,
       "version_minor": 0
      },
      "text/plain": [
       "  0%|          | 0/1000 [00:00<?, ?it/s]"
      ]
     },
     "metadata": {},
     "output_type": "display_data"
    }
   ],
   "source": [
    "multimodel.cuda()\n",
    "\n",
    "optim = torch.optim.AdamW(multimodel.parameters(), lr=0.0001)\n",
    "\n",
    "pbar = trange(1000)\n",
    "for i in pbar:\n",
    "  multimodel.train()\n",
    "  trn_loss = .0\n",
    "  for x, y in trn_dl:\n",
    "    x, y = x.to(device), y.to(device)   # (32, 24, 3), (32, 4, 3)\n",
    "    #print(x.shape, y.shape)\n",
    "    p = multimodel(x)\n",
    "    optim.zero_grad()\n",
    "    loss = F.mse_loss(p, y)\n",
    "    loss.backward()\n",
    "    optim.step()\n",
    "    trn_loss += loss.item()*len(y)\n",
    "  trn_loss = trn_loss/len(trn_ds)\n",
    "\n",
    "  multimodel.eval()\n",
    "  with torch.inference_mode():\n",
    "    x, y = next(iter(tst_dl))\n",
    "    x, y = x.to(device), y.to(device)\n",
    "    p = multimodel(x)\n",
    "    tst_loss = F.mse_loss(p,y)\n",
    "  pbar.set_postfix({'loss':trn_loss, 'tst_loss':tst_loss.item()})\n"
   ]
  },
  {
   "cell_type": "markdown",
   "metadata": {},
   "source": [
    "# 단기"
   ]
  },
  {
   "cell_type": "code",
   "execution_count": 11,
   "metadata": {},
   "outputs": [
    {
     "data": {
      "image/png": "[encoded data removed]",
      "text/plain": [
       "<Figure size 640x480 with 1 Axes>"
      ]
     },
     "metadata": {},
     "output_type": "display_data"
    }
   ],
   "source": [
    "scaler = multidata.get_scaler()\n",
    "res_dict = {}\n",
    "\n",
    "multimodel.eval()\n",
    "multimodel.to('cuda')\n",
    "with torch.inference_mode():\n",
    "  x, y = next(iter(tst_dl))\n",
    "  #print(y.shape) #17,4,3\n",
    "  y=y.reshape(-1,3)\n",
    "  y=scaler.inverse_transform(y.cpu().numpy())\n",
    "  y=y.reshape(-1,4,3)\n",
    "  x, y = x.flatten(1), y[:,:,0] #17,4    0번째 채널을 뽑고있다.\n",
    "\n",
    "\n",
    "  x = x.to('cuda')\n",
    "  #p = Multinet(x)[:,:,0]\n",
    "  p = multimodel(x)\n",
    "  #print(p.shape)\n",
    "  p = p.reshape(-1,3)\n",
    "  p=p.cpu()\n",
    "  p=scaler.inverse_transform(p.numpy())\n",
    "  #print(p.shape)\n",
    "  p = p.reshape(-1,4,3)\n",
    "\n",
    "\n",
    "#print(y,p)\n",
    "#print(y.shape,p.shape)\n",
    "\n",
    "#y = y.cpu()/scaler.scale_[0] + scaler.min_[0]\n",
    "#p = p.cpu()/scaler.scale_[0] + scaler.min_[0]\n",
    "\n",
    "y = np.concatenate([y[:,0], y[-1,1:]])\n",
    "p = np.concatenate([p[:,0], p[-1,1:]])\n",
    "#print(y,p)\n",
    "#print(y.shape,p.shape)\n",
    "p = p[:,0]\n",
    "#inverse_preds = scaler.inverse_transform(p.reshape(-1,3))\n",
    "\n",
    "\n",
    "plt.title(f\"Multi Neural Network, MAPE:{mape(p,y):.4f}, MAE:{mae(p,y):.4f}, R2:{r2_score(p,y):.4f}\")\n",
    "plt.plot(range(tst_size), y, label=\"True\")\n",
    "plt.plot(range(tst_size), p, label=\"Prediction\")\n",
    "plt.legend()\n",
    "plt.show()\n",
    "\n",
    "res_dict.update({'NN(9*2, 512, 4)': {'MAPE':mape(p,y), 'MAE':mae(p,y),  'R2':r2_score(p,y)}})"
   ]
  },
  {
   "cell_type": "markdown",
   "metadata": {},
   "source": [
    "# 장기"
   ]
  },
  {
   "cell_type": "code",
   "execution_count": 12,
   "metadata": {},
   "outputs": [
    {
     "name": "stdout",
     "output_type": "stream",
     "text": [
      "[[0.8028985  0.96783626 0.49456525]\n",
      " [0.71304345 0.93650794 0.30978262]\n",
      " [0.7855072  0.9177109  0.6141305 ]\n",
      " [0.76231885 0.90601504 0.43478262]]\n",
      "(24, 3) (4, 3)\n"
     ]
    }
   ],
   "source": [
    "# 장기예측\n",
    "window_size = 24\n",
    "prediction_size = 4\n",
    "test_size=20\n",
    "preds = []\n",
    "\n",
    "tst_data = data[-tst_size:]\n",
    "\n",
    "device = torch.device(\"cuda:0\" if torch.cuda.is_available() else \"cpu\")\n",
    "multimodel.to(device)\n",
    "\n",
    "# print(type(x), type(y))\n",
    "x, y = trn_ds[len(trn_ds)-1]\n",
    "print(y)\n",
    "print(x.shape , y.shape)"
   ]
  },
  {
   "cell_type": "code",
   "execution_count": 13,
   "metadata": {},
   "outputs": [
    {
     "name": "stdout",
     "output_type": "stream",
     "text": [
      "(20,)\n",
      "MAPE:  16.145344544867896\n",
      "MAE:  0.18684974443912505\n",
      "R2_Score:  -2.5999766843194556\n"
     ]
    },
    {
     "data": {
      "text/plain": [
       "<Axes: xlabel='YearMonth'>"
      ]
     },
     "execution_count": 13,
     "metadata": {},
     "output_type": "execute_result"
    },
    {
     "data": {
      "image/png": "[encoded data removed]",
      "text/plain": [
       "<Figure size 640x480 with 1 Axes>"
      ]
     },
     "metadata": {},
     "output_type": "display_data"
    }
   ],
   "source": [
    "preds = []\n",
    "\n",
    "for i in range(test_size):\n",
    "  y = y.squeeze()\n",
    "  # print(i, x.shape, y.shape)\n",
    "  x = np.concatenate([x,y])[-window_size:]\n",
    "    \n",
    "  x_tensor = torch.tensor(x, dtype=torch.float32).unsqueeze(0).to(device)\n",
    "  # print(x_tensor.shape)\n",
    "  y = multimodel(x_tensor)\n",
    "  # print(y.shape)\n",
    "  y = y.detach().cpu().numpy()\n",
    "  # y = y.reshape(1,prediction_size)\n",
    "  #print(x,y)\n",
    "  preds.append(y)\n",
    "  # print(i, x.shape, y.shape)\n",
    "\n",
    "\n",
    "preds = np.concatenate(preds, axis=0)\n",
    "# print(preds.shape)\n",
    "# expanded_preds = np.zeros((preds.shape[0], 3))  \n",
    "# expanded_preds[:, 0] = preds[:, 0]  \n",
    "\n",
    "\n",
    "inverse_preds = scaler.inverse_transform(preds.reshape(-1,3)).reshape(-1,4,3)\n",
    "\n",
    "\n",
    "final_preds = inverse_preds[:, 0,0]\n",
    "print(final_preds.shape)\n",
    "#print(preds.shape)\n",
    "#y = y/scaler.scale_[0] + scaler.min_[0]\n",
    "#preds = preds/scaler.scale_[0] + scaler.min_[0]\n",
    "#preds = scaler.inverse_transform(preds).squeeze()\n",
    "#print(preds.shape)\n",
    "#preds = preds[:,0]\n",
    "#print(preds.shape)\n",
    "\n",
    "mape2 = mape(final_preds,data.Temperature[-tst_size:].to_numpy())\n",
    "print(\"MAPE: \",mape2)\n",
    "mae2 = mae(final_preds,data.Temperature[-tst_size:].to_numpy())\n",
    "print(\"MAE: \",mae2)\n",
    "r2_score2 = r2_score(final_preds,data.Temperature[-tst_size:].to_numpy())\n",
    "print(\"R2_Score: \", r2_score2)\n",
    "\n",
    "# 장기예측 plot\n",
    "df = pd.DataFrame({\"ANN_long\": final_preds}, index=tst_data.index)\n",
    "trn, tst = data.Temperature[:-tst_size], data.Temperature[-tst_size:]\n",
    "ax = tst.plot(label=\"TRUE\")\n",
    "df.plot(ax=ax)"
   ]
  }
 ],
 "metadata": {
  "kernelspec": {
   "display_name": "MathAI",
   "language": "python",
   "name": "python3"
  },
  "language_info": {
   "codemirror_mode": {
    "name": "ipython",
    "version": 3
   },
   "file_extension": ".py",
   "mimetype": "text/x-python",
   "name": "python",
   "nbconvert_exporter": "python",
   "pygments_lexer": "ipython3",
   "version": "3.10.13"
  }
 },
 "nbformat": 4,
 "nbformat_minor": 2
}
