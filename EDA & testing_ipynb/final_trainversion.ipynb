{
 "cells": [
  {
   "cell_type": "code",
   "execution_count": 1,
   "metadata": {},
   "outputs": [
    {
     "name": "stderr",
     "output_type": "stream",
     "text": [
      "/home/jihye/.local/lib/python3.10/site-packages/tqdm/auto.py:21: TqdmWarning: IProgress not found. Please update jupyter and ipywidgets. See https://ipywidgets.readthedocs.io/en/stable/user_install.html\n",
      "  from .autonotebook import tqdm as notebook_tqdm\n"
     ]
    }
   ],
   "source": [
    "import pandas as pd\n",
    "import numpy as np\n",
    "import matplotlib.pyplot as plt\n",
    "from Dataset import *\n",
    "from Metric import *\n",
    "from Model import *\n",
    "from Preprocess import *\n",
    "from train import *\n",
    "from tqdm.auto import trange\n",
    "import torch.nn.functional as F\n",
    "import torch"
   ]
  },
  {
   "cell_type": "code",
   "execution_count": 2,
   "metadata": {},
   "outputs": [],
   "source": [
    "device = torch.device(\"cuda\" if torch.cuda.is_available() else \"cpu\")"
   ]
  },
  {
   "cell_type": "code",
   "execution_count": 3,
   "metadata": {},
   "outputs": [],
   "source": [
    "data = pd.read_csv(\"data/final.csv\")\n",
    "\n",
    "data['YearMonth'] = pd.to_datetime(data['YearMonth'])\n",
    "data.set_index('YearMonth', inplace=True)\n",
    "data.head()\n",
    "m_data = data.copy()\n",
    "m2_data = data.copy()\n",
    "patch_data = data.copy()\n"
   ]
  },
  {
   "cell_type": "code",
   "execution_count": 4,
   "metadata": {},
   "outputs": [],
   "source": [
    "tst_size = 100\n",
    "trn, tst = data[1000:-tst_size], data[-tst_size:]"
   ]
  },
  {
   "cell_type": "markdown",
   "metadata": {},
   "source": [
    "## Stateful Lstm"
   ]
  },
  {
   "cell_type": "code",
   "execution_count": null,
   "metadata": {},
   "outputs": [],
   "source": [
    "# 변수 초기화\n",
    "#Lstm\n",
    "state_input_size = 2     #고정\n",
    "state_hidden_size = 64\n",
    "state_output_size = 2     #고정\n",
    "state_num_layers = 2\n",
    "state_batch_size = 128"
   ]
  },
  {
   "cell_type": "code",
   "execution_count": null,
   "metadata": {},
   "outputs": [],
   "source": [
    "statefullstm = StatefulLoadData(data,tst_size)\n",
    "state_trn_scaled, state_tst_scaled = statefullstm.scaling()\n",
    "#trn_scaled, tst_scaled"
   ]
  },
  {
   "cell_type": "code",
   "execution_count": null,
   "metadata": {},
   "outputs": [],
   "source": [
    "statefulmodel = StatefulLSTM(state_input_size,state_hidden_size,state_output_size,state_num_layers)\n",
    "statefulmodel.to(device)"
   ]
  },
  {
   "cell_type": "code",
   "execution_count": null,
   "metadata": {},
   "outputs": [],
   "source": [
    "trn_x = torch.tensor(state_trn_scaled[:-1]).split(state_batch_size)\n",
    "trn_y = torch.tensor(state_trn_scaled[1:]).split(state_batch_size)\n",
    "tst_y = torch.tensor(state_tst_scaled)"
   ]
  },
  {
   "cell_type": "code",
   "execution_count": null,
   "metadata": {},
   "outputs": [],
   "source": [
    "print(trn_y[0])"
   ]
  },
  {
   "cell_type": "code",
   "execution_count": null,
   "metadata": {},
   "outputs": [],
   "source": [
    "state_optim = torch.optim.AdamW(statefulmodel.parameters(), lr=0.0001)\n",
    "p=state_train_epoch(statefulmodel, 1000 , device, zip(trn_x,trn_y), state_optim, tst_y)\n",
    "#map , filter, zip"
   ]
  },
  {
   "cell_type": "code",
   "execution_count": null,
   "metadata": {},
   "outputs": [],
   "source": [
    "scaler = statefullstm.get_scaler()\n",
    "prd = scaler.inverse_transform(p.cpu()[:,:1])"
   ]
  },
  {
   "cell_type": "code",
   "execution_count": null,
   "metadata": {},
   "outputs": [],
   "source": [
    "plt.title(f\"LSTM (Stateful), MAPE:{mape(prd,tst.to_numpy()):.4f}, MAE:{mae(prd,tst.to_numpy()):.4f}, R2:{r2_score(prd,tst.to_numpy())}\")\n",
    "plt.plot(tst.Temperature.to_numpy(), label='TST')\n",
    "plt.plot(prd, label='PRD')\n",
    "plt.legend()\n",
    "plt.show()"
   ]
  },
  {
   "cell_type": "code",
   "execution_count": null,
   "metadata": {},
   "outputs": [],
   "source": [
    "torch.save(statefulmodel.state_dict(), 'model/AdamW_0.0001_2_64_2_2_StatefulLstm.pth')"
   ]
  },
  {
   "cell_type": "markdown",
   "metadata": {},
   "source": [
    "# Stateless Lstm"
   ]
  },
  {
   "cell_type": "code",
   "execution_count": null,
   "metadata": {},
   "outputs": [],
   "source": [
    "stateless_window_size = 32\n",
    "stateless_input_size = 2\n",
    "stateless_hidden_size = 64\n",
    "stateless_output_size = 2\n",
    "stateless_num_layers = 2\n",
    "\n",
    "asdf = StatelessLoadData(data, tst_size, stateless_window_size)\n",
    "stateless_trn_dl , stateless_tst_dl = asdf.scaling()"
   ]
  },
  {
   "cell_type": "code",
   "execution_count": null,
   "metadata": {},
   "outputs": [],
   "source": [
    "statelesslstm = StatelessLSTM(stateless_input_size , stateless_hidden_size , stateless_output_size , stateless_num_layers)\n",
    "statelesslstm.to(device)"
   ]
  },
  {
   "cell_type": "code",
   "execution_count": null,
   "metadata": {},
   "outputs": [],
   "source": [
    "x,y =next(iter(stateless_trn_dl))\n",
    "x.shape,y.shape"
   ]
  },
  {
   "cell_type": "code",
   "execution_count": null,
   "metadata": {},
   "outputs": [],
   "source": [
    "optim = torch.optim.AdamW(statelesslstm.parameters(), lr=0.0001)\n",
    "p2 = stateless_train_epoch(statelesslstm,200,device,stateless_trn_dl,optim,stateless_tst_dl, state_tst_scaled)"
   ]
  },
  {
   "cell_type": "code",
   "execution_count": null,
   "metadata": {},
   "outputs": [],
   "source": [
    "for name, param in statelesslstm.named_parameters():\n",
    "    if param.requires_grad:\n",
    "        print(name, param.data)"
   ]
  },
  {
   "cell_type": "code",
   "execution_count": null,
   "metadata": {},
   "outputs": [],
   "source": [
    "scaler = asdf.get_scaler()\n",
    "prd = scaler.inverse_transform(p2.cpu())\n",
    "# prd = p.cpu()\n",
    "\n",
    "plt.title(f\"LSTM (Look-back window), MAPE:{mape(prd,tst.to_numpy()):.4f}, MAE:{mae(prd,tst.to_numpy()):.4f}, R2:{r2_score(prd,tst.to_numpy())}\")\n",
    "plt.plot(tst.to_numpy()[:,:1], label='TST')\n",
    "plt.plot(prd, label='PRD')\n",
    "plt.legend()\n",
    "plt.show()"
   ]
  },
  {
   "cell_type": "code",
   "execution_count": null,
   "metadata": {},
   "outputs": [],
   "source": [
    "torch.save(statelesslstm, 'AdamW_0.0001_32_2_32_2_2_StatelessLstm2222222.pth')"
   ]
  },
  {
   "cell_type": "markdown",
   "metadata": {},
   "source": [
    "# Single ANN"
   ]
  },
  {
   "cell_type": "code",
   "execution_count": null,
   "metadata": {},
   "outputs": [],
   "source": [
    "# dataset params\n",
    "single_lookback_size = 80\n",
    "single_forcast_size = 20\n",
    "single_batch_size = 32\n",
    "\n",
    "# model params\n",
    "single_d_in = single_lookback_size\n",
    "single_d_out = single_forcast_size \n",
    "single_d_hidden = 512\n",
    "\n",
    "anndataset = ANNLoadData(m_data,single_lookback_size,single_forcast_size,tst_size,single_batch_size)\n",
    "\n",
    "single_trn_dl , single_tst_dl, single_trn_ds = anndataset.scaling()"
   ]
  },
  {
   "cell_type": "code",
   "execution_count": null,
   "metadata": {},
   "outputs": [],
   "source": [
    "singleann = Net(single_d_in,single_d_out,single_d_hidden)"
   ]
  },
  {
   "cell_type": "code",
   "execution_count": null,
   "metadata": {},
   "outputs": [],
   "source": [
    "x, y = next(iter(single_trn_dl))\n",
    "\n",
    "x.shape, y.shape"
   ]
  },
  {
   "cell_type": "code",
   "execution_count": null,
   "metadata": {},
   "outputs": [],
   "source": [
    "singleann.to(device)\n",
    "optim = torch.optim.AdamW(singleann.parameters(), lr=0.0001)\n",
    "p3 = train_epoch(singleann , 2000 , device, single_trn_dl, optim, single_trn_ds, single_tst_dl)"
   ]
  },
  {
   "cell_type": "code",
   "execution_count": null,
   "metadata": {},
   "outputs": [],
   "source": [
    "singleann.eval()\n",
    "with torch.inference_mode():\n",
    "  x, y = next(iter(single_tst_dl))\n",
    "  x, y = x.to(device), y.to(device)\n",
    "  p = singleann(x)\n",
    "\n",
    "scaler = anndataset.get_scaler()\n",
    "y = scaler.inverse_transform(y.cpu())\n",
    "p = scaler.inverse_transform(p.cpu())\n",
    "\n",
    "y = np.concatenate([y[:,0], y[-1,1:]])\n",
    "p = np.concatenate([p[:,0], p[-1,1:]])\n",
    "\n",
    "res_dict = {}\n",
    "\n",
    "plt.title(f\"Neural Network, MAPE:{mape(p,y):.4f}, MAE:{mae(p,y):.4f}, R2:{r2_score(p,y):.4f}\")\n",
    "plt.plot(range(tst_size), y, label=\"True\")\n",
    "plt.plot(range(tst_size), p, label=\"Prediction\")\n",
    "plt.legend()\n",
    "plt.show()\n",
    "\n",
    "res_dict.update({'NN(80,512,20)': {'MAPE':mape(p,y), 'MAE':mae(p,y)}})"
   ]
  },
  {
   "cell_type": "code",
   "execution_count": null,
   "metadata": {},
   "outputs": [],
   "source": [
    "# 장기예측\n",
    "window_size = single_lookback_size\n",
    "prediction_size = single_forcast_size\n",
    "preds = []\n",
    "tst_data  = data [-tst_size :]\n",
    "\n",
    "#device = torch.device(\"cuda:0\" if torch.cuda.is_available() else \"cpu\")\n",
    "singleann.to(device)\n",
    "\n",
    "# print(type(x), type(y))\n",
    "x, y = single_trn_ds[len(single_trn_ds)-1]\n",
    "\n",
    "for _ in range(tst_size):\n",
    "  #print(x.shape, y.shape)\n",
    "  y=y.squeeze()\n",
    "  #print(x.shape, y.shape)\n",
    "\n",
    "  x = np.concatenate([x,y])[-window_size:]\n",
    "  #x = x.flatten()\n",
    "  #y = y.flatten()\n",
    "    \n",
    "  x_tensor = torch.tensor(x, dtype=torch.float32).to(device)\n",
    "  #y = net(torch.tensor(x, dtype=torch.float32).to(device)) # your model\n",
    "  y=singleann(x_tensor)\n",
    "  y = y.detach().cpu().numpy()\n",
    "  y= y.reshape(1,prediction_size)\n",
    "  #print(x,y)\n",
    "  preds.append(y)\n",
    "\n",
    "preds = np.concatenate(preds, axis=0)\n",
    "preds = scaler.inverse_transform(preds).squeeze()\n",
    "#print(preds.shape)\n",
    "preds = preds[:,0]\n",
    "#print(preds.shape)\n",
    "\n",
    "mape2 = mape(preds,data.Temperature[-tst_size:].to_numpy())\n",
    "print(\"MAPE: \",mape2)\n",
    "mae2 = mae(preds,data.Temperature[-tst_size:].to_numpy())\n",
    "print(\"MAE: \",mae2)\n",
    "r2_score2 = r2_score(preds,data.Temperature[-tst_size:].to_numpy())\n",
    "print(\"R2_Score: \", r2_score2)\n",
    "\n",
    "# 장기예측 plot\n",
    "df = pd.DataFrame({\"ANN_long\": preds}, index=tst_data.index)\n",
    "trn, tst = data.Temperature[:-tst_size], data.Temperature[-tst_size:]\n",
    "ax = tst.plot(label=\"TRUE\")\n",
    "df.plot(ax=ax)"
   ]
  },
  {
   "cell_type": "markdown",
   "metadata": {},
   "source": [
    "## 통으로 뽑기"
   ]
  },
  {
   "cell_type": "code",
   "execution_count": null,
   "metadata": {},
   "outputs": [],
   "source": [
    "m_data[-single_lookback_size-tst_size:-tst_size]"
   ]
  },
  {
   "cell_type": "code",
   "execution_count": null,
   "metadata": {},
   "outputs": [],
   "source": [
    "single_all = m_data[-single_lookback_size-tst_size:-tst_size]\n",
    "single_all = single_all.to_numpy()\n",
    "single_tensor = torch.tensor(single_all, dtype=torch.float32).to(device)\n",
    "single_tensor = single_tensor.squeeze()\n",
    "singley = singleann(single_tensor)"
   ]
  },
  {
   "cell_type": "code",
   "execution_count": null,
   "metadata": {},
   "outputs": [],
   "source": [
    "singley = singley.detach().cpu().numpy()"
   ]
  },
  {
   "cell_type": "code",
   "execution_count": null,
   "metadata": {},
   "outputs": [],
   "source": [
    "singley.shape"
   ]
  },
  {
   "cell_type": "code",
   "execution_count": null,
   "metadata": {},
   "outputs": [],
   "source": [
    "singley = singley.reshape(single_forcast_size,1)\n",
    "single_scaler = anndataset.get_scaler()\n",
    "singley = single_scaler.inverse_transform(singley).squeeze()"
   ]
  },
  {
   "cell_type": "code",
   "execution_count": null,
   "metadata": {},
   "outputs": [],
   "source": [
    "mape2 = mape(singley,data.Temperature[-tst_size:].to_numpy())\n",
    "print(\"MAPE: \",mape2)\n",
    "mae2 = mae(singley,data.Temperature[-tst_size:].to_numpy())\n",
    "print(\"MAE: \",mae2)\n",
    "r2_score2 = r2_score(singley,data.Temperature[-tst_size:].to_numpy())\n",
    "print(\"R2_Score: \", r2_score2)\n",
    "\n",
    "# 장기예측 plot\n",
    "#plt.title(f\"PatchTST (extended dataset), MAPE:{mape(preds,data.Temperature[-20:].to_numpy()):.4f}, MAE:{mae(preds,data.Temperature[-20:].to_numpy()):.4f}, R2:{r2_score(preds,data.Temperature[-20:].to_numpy())(p,y):.4f}\")\n",
    "df = pd.DataFrame({\"Patch_long\": singley}, index=tst.index)\n",
    "trn, tst = data.Temperature[:-tst_size], data.Temperature[-tst_size:]\n",
    "ax = tst.plot(label=\"TRUE\")\n",
    "df.plot(ax=ax)"
   ]
  },
  {
   "cell_type": "code",
   "execution_count": null,
   "metadata": {},
   "outputs": [],
   "source": [
    "torch.save(singleann.state_dict(), 'model/singlechannel_AdamW_2000_lookback80_forecast20.pth')"
   ]
  },
  {
   "cell_type": "markdown",
   "metadata": {},
   "source": [
    "# Multichannel ANN"
   ]
  },
  {
   "cell_type": "code",
   "execution_count": null,
   "metadata": {},
   "outputs": [],
   "source": [
    "#Multi Load Data\n",
    "multi_lookback_size = 80\n",
    "multi_forecast_size = 20\n",
    "multi_batch_size = 32\n",
    "\n",
    "# Multi model\n",
    "multi_input_size = multi_lookback_size   #고정\n",
    "multi_hidden_size = 512\n",
    "multi_output_size = multi_forecast_size     #고정\n",
    "multi_channel_size = 4"
   ]
  },
  {
   "cell_type": "code",
   "execution_count": null,
   "metadata": {},
   "outputs": [],
   "source": [
    "#m_data = data.copy()\n",
    "m2_data['rolling_mean'] = m2_data.rolling(12).mean()\n",
    "m2_data['rolling_mean2'] = m2_data['Temperature'].rolling(4).mean()\n",
    "m2_data['diff1'] = m2_data['Temperature'].diff(1)\n",
    "m2_data = m2_data.dropna()\n",
    "\n",
    "multidata = MultiANNLoadData(m2_data,multi_lookback_size,multi_forecast_size,tst_size,multi_batch_size)\n",
    "multi_trn_dl, multi_tst_dl , multi_trn_ds = multidata.scaling()"
   ]
  },
  {
   "cell_type": "code",
   "execution_count": null,
   "metadata": {},
   "outputs": [],
   "source": [
    "multimodel = NetMulti(multi_lookback_size,multi_output_size,multi_hidden_size,multi_channel_size)"
   ]
  },
  {
   "cell_type": "markdown",
   "metadata": {},
   "source": [
    "- 40개월   ex) 60을 보고 40을 예측  /  1개월씩 40을 예측  /  4개월씩 10번\n",
    "- 목표를 설정하고 그것을 이루기 위해 시도한 방법들 소개!"
   ]
  },
  {
   "cell_type": "code",
   "execution_count": null,
   "metadata": {},
   "outputs": [],
   "source": [
    "multimodel.cuda()\n",
    "\n",
    "optim = torch.optim.Adam(multimodel.parameters(), lr=0.00001)\n",
    "train_epoch(multimodel,500,device,multi_trn_dl,optim,multi_trn_ds, multi_tst_dl)"
   ]
  },
  {
   "cell_type": "code",
   "execution_count": null,
   "metadata": {},
   "outputs": [],
   "source": [
    "#torch.save(multimodel, 'model/3channel_AdamW_2000_lookback80_forecast20_multichannel.pth')\n",
    "torch.save(multimodel.state_dict(), 'model0112/1000cut_test20_4channel_Adam_300_lookback80_forecast20_multichannel_dict.pth')\n"
   ]
  },
  {
   "cell_type": "markdown",
   "metadata": {},
   "source": [
    "# 단기"
   ]
  },
  {
   "cell_type": "code",
   "execution_count": null,
   "metadata": {},
   "outputs": [],
   "source": [
    "scaler = multidata.get_scaler()\n",
    "\n",
    "multimodel.eval()\n",
    "multimodel.to('cuda')\n",
    "with torch.inference_mode():\n",
    "  x, y = next(iter(multi_tst_dl))\n",
    "  #print(y.shape) #17,4,3\n",
    "  y=y.reshape(-1,multi_channel_size)\n",
    "  y=scaler.inverse_transform(y.cpu().numpy())\n",
    "  y=y.reshape(-1,multi_forecast_size,multi_channel_size)\n",
    "  x, y = x.flatten(1), y[:,:,0] #17,4    0번째 채널을 뽑고있다.\n",
    "\n",
    "  x = x.to('cuda')\n",
    "  #p = Multinet(x)[:,:,0]\n",
    "  p = multimodel(x)\n",
    "  #print(p)\n",
    "\n",
    "  #print(p.shape)\n",
    "  p = p.reshape(-1,multi_channel_size)\n",
    "  p=p.cpu()\n",
    "  p=scaler.inverse_transform(p.numpy())\n",
    "  #print(p.shape)\n",
    "  p = p.reshape(-1,multi_forecast_size,multi_channel_size)\n",
    "\n",
    "y = np.concatenate([y[:,0], y[-1,1:]])\n",
    "p = np.concatenate([p[:,0], p[-1,1:]])\n",
    "#print(y,p)\n",
    "#print(y.shape,p.shape)\n",
    "p = p[:,0]\n",
    "#inverse_preds = scaler.inverse_transform(p.reshape(-1,3))\n",
    "\n",
    "\n",
    "plt.title(f\"Multi Neural Network, MAPE:{mape(p,y):.4f}, MAE:{mae(p,y):.4f}, R2:{r2_score(p,y):.4f}\")\n",
    "plt.plot(range(tst_size), y, label=\"True\")\n",
    "plt.plot(range(tst_size), p, label=\"Prediction\")\n",
    "plt.legend()\n",
    "plt.show()\n"
   ]
  },
  {
   "cell_type": "markdown",
   "metadata": {},
   "source": [
    "# 장기"
   ]
  },
  {
   "cell_type": "code",
   "execution_count": null,
   "metadata": {},
   "outputs": [],
   "source": [
    "# 장기예측\n",
    "multimodel.eval()\n",
    "window_size = multi_lookback_size\n",
    "prediction_size = multi_forecast_size\n",
    "preds = []\n",
    "multimodel.to(device)\n",
    "\n",
    "# print(type(x), type(y))\n",
    "x2, y2 = multi_trn_ds[len(multi_trn_ds)-1]\n",
    "#print(y)\n",
    "#print(x.shape , y.shape)"
   ]
  },
  {
   "cell_type": "code",
   "execution_count": null,
   "metadata": {},
   "outputs": [],
   "source": [
    "preds = []\n",
    "\n",
    "for i in range(tst_size):\n",
    "  y2 = y2.squeeze()\n",
    "  # print(i, x.shape, y.shape)\n",
    "  x2 = np.concatenate([x2,y2])[-window_size:]\n",
    "  x_tensor = torch.tensor(x2, dtype=torch.float32).unsqueeze(0).to(device)\n",
    "  # print(x_tensor.shape)\n",
    "  y2 = multimodel(x_tensor)\n",
    "  # print(y.shape)\n",
    "  y2 = y2.detach().cpu().numpy()\n",
    "  # y = y.reshape(1,prediction_size)\n",
    "  #print(x,y)\n",
    "  preds.append(y2)\n",
    "  # print(i, x.shape, y.shape)\n",
    "\n",
    "preds = np.concatenate(preds, axis=0)\n",
    "inverse_preds = scaler.inverse_transform(preds.reshape(-1,multi_channel_size)).reshape(-1,multi_forecast_size,multi_channel_size)\n",
    "\n",
    "final_preds = inverse_preds[:, 0,0]\n",
    "print(final_preds.shape)\n",
    "\n",
    "mape2 = mape(final_preds,data.Temperature[-tst_size:].to_numpy())\n",
    "print(\"MAPE: \",mape2)\n",
    "mae2 = mae(final_preds,data.Temperature[-tst_size:].to_numpy())\n",
    "print(\"MAE: \",mae2)\n",
    "r2_score2 = r2_score(final_preds,data.Temperature[-tst_size:].to_numpy())\n",
    "print(\"R2_Score: \", r2_score2)\n",
    "\n",
    "# 장기예측 plot\n",
    "df = pd.DataFrame({\"ANN_long\": final_preds}, index=tst.index)\n",
    "trn, tst = data.Temperature[:-tst_size], data.Temperature[-tst_size:]\n",
    "ax = tst.plot(label=\"TRUE\")\n",
    "df.plot(ax=ax)"
   ]
  },
  {
   "cell_type": "markdown",
   "metadata": {},
   "source": [
    "## 한번에 뽑아보기"
   ]
  },
  {
   "cell_type": "code",
   "execution_count": null,
   "metadata": {},
   "outputs": [],
   "source": [
    "#multi_scaler = multidata.get_scaler()\n",
    "multimodel.eval()\n",
    "#multiall = m2_data[-multi_lookback_size-tst_size-multi_forecast_size:-tst_size-multi_forecast_size]\n",
    "#multiall = m2_data[-multi_lookback_size-tst_size:-tst_size]\n",
    "a, b = multi_trn_ds[len(multi_trn_ds)-1]\n",
    "x2 = np.concatenate([a,b])[-window_size:]\n",
    "#print(x2)\n",
    "#multiall = multiall.to_numpy()\n",
    "multi_tensor = torch.tensor(x2, dtype=torch.float32).unsqueeze(0).to(device)\n",
    "multiy = multimodel(multi_tensor)"
   ]
  },
  {
   "cell_type": "code",
   "execution_count": null,
   "metadata": {},
   "outputs": [],
   "source": [
    "multiy = multiy.detach().cpu().numpy()"
   ]
  },
  {
   "cell_type": "code",
   "execution_count": null,
   "metadata": {},
   "outputs": [],
   "source": [
    "multiy = multiy.reshape(multi_forecast_size,multi_channel_size)\n",
    "multiy = scaler.inverse_transform(multiy).squeeze()"
   ]
  },
  {
   "cell_type": "code",
   "execution_count": null,
   "metadata": {},
   "outputs": [],
   "source": [
    "mape2 = mape(multiy[:,0],data.Temperature[-tst_size:].to_numpy())\n",
    "print(\"MAPE: \",mape2)\n",
    "mae2 = mae(multiy[:,0],data.Temperature[-tst_size:].to_numpy())\n",
    "print(\"MAE: \",mae2)\n",
    "r2_score2 = r2_score(multiy[:,0],data.Temperature[-tst_size:].to_numpy())\n",
    "print(\"R2_Score: \", r2_score2)\n",
    "\n",
    "# 장기예측 plot\n",
    "#plt.title(f\"PatchTST (extended dataset), MAPE:{mape(preds,data.Temperature[-20:].to_numpy()):.4f}, MAE:{mae(preds,data.Temperature[-20:].to_numpy()):.4f}, R2:{r2_score(preds,data.Temperature[-20:].to_numpy())(p,y):.4f}\")\n",
    "df = pd.DataFrame({\"Multi-tong\": multiy[:,0]}, index=tst.index)\n",
    "trn, tst = data.Temperature[:-tst_size], data.Temperature[-tst_size:]\n",
    "ax = tst.plot(label=\"TRUE\")\n",
    "df.plot(ax=ax)"
   ]
  },
  {
   "cell_type": "markdown",
   "metadata": {},
   "source": [
    "# PatchTST"
   ]
  },
  {
   "cell_type": "code",
   "execution_count": 5,
   "metadata": {},
   "outputs": [],
   "source": [
    "#test_size = 20\n",
    "#초기화\n",
    "#patch_size = 4 #고정\n",
    "#(batch, n_patchs, patch_length)\n",
    "#근까 patch length가 patch size랑 같은말아님?????\n",
    "patch_length = 80 #고정\n",
    "n_patch = 4\n",
    "#n_token = 64   #조정\n",
    "patch_batch_size = 32\n",
    "patch_model_dim = 128 #고정\n",
    "patch_num_heads = 16   #고정\n",
    "patch_num_layers = 3   #고정\n",
    "patch_output_dim = tst_size  #고정"
   ]
  },
  {
   "cell_type": "markdown",
   "metadata": {},
   "source": [
    "나지금 num_layer 3에서 4로 바꿨다?"
   ]
  },
  {
   "cell_type": "code",
   "execution_count": 6,
   "metadata": {},
   "outputs": [],
   "source": [
    "patchdata = PatchLoadData(patch_data, n_patch, patch_length, tst_size, patch_batch_size)\n",
    "patch_trn_dl , patch_tst_dl, patch_trn_ds = patchdata.scaling()"
   ]
  },
  {
   "cell_type": "code",
   "execution_count": 7,
   "metadata": {},
   "outputs": [
    {
     "data": {
      "text/plain": [
       "PatchTST(\n",
       "  (patch_embedding): Linear(in_features=80, out_features=128, bias=True)\n",
       "  (transformer_encoder): TransformerEncoder(\n",
       "    (layers): ModuleList(\n",
       "      (0-2): 3 x TransformerEncoderLayer(\n",
       "        (self_attn): MultiheadAttention(\n",
       "          (out_proj): NonDynamicallyQuantizableLinear(in_features=128, out_features=128, bias=True)\n",
       "        )\n",
       "        (linear1): Linear(in_features=128, out_features=2048, bias=True)\n",
       "        (dropout): Dropout(p=0.1, inplace=False)\n",
       "        (linear2): Linear(in_features=2048, out_features=128, bias=True)\n",
       "        (norm1): LayerNorm((128,), eps=1e-05, elementwise_affine=True)\n",
       "        (norm2): LayerNorm((128,), eps=1e-05, elementwise_affine=True)\n",
       "        (dropout1): Dropout(p=0.1, inplace=False)\n",
       "        (dropout2): Dropout(p=0.1, inplace=False)\n",
       "      )\n",
       "    )\n",
       "  )\n",
       "  (output_layer): Linear(in_features=512, out_features=100, bias=True)\n",
       ")"
      ]
     },
     "execution_count": 7,
     "metadata": {},
     "output_type": "execute_result"
    }
   ],
   "source": [
    "patchmodel = PatchTST(n_patch, patch_length, patch_model_dim, patch_num_heads, patch_num_layers, patch_output_dim)\n",
    "patchmodel.cuda()"
   ]
  },
  {
   "cell_type": "code",
   "execution_count": 8,
   "metadata": {},
   "outputs": [
    {
     "name": "stderr",
     "output_type": "stream",
     "text": [
      "100%|██████████| 700/700 [06:26<00:00,  1.81it/s, loss=0.000433, tst_loss=0.0246]\n"
     ]
    },
    {
     "data": {
      "text/plain": [
       "tensor([[0.7402, 0.8072, 0.7758, 0.7383, 0.7321, 0.7976, 0.8072, 0.7920, 0.8112,\n",
       "         0.8323, 0.8015, 0.8286, 0.8127, 0.7942, 0.7927, 0.8183, 0.8077, 0.7557,\n",
       "         0.7760, 0.7978, 0.7417, 0.7839, 0.7651, 0.7788, 0.7382, 0.7394, 0.8118,\n",
       "         0.7924, 0.7121, 0.7628, 0.7280, 0.7267, 0.7368, 0.8221, 0.8392, 0.7962,\n",
       "         0.7686, 0.7432, 0.8006, 0.7897, 0.7230, 0.7965, 0.7682, 0.7866, 0.7803,\n",
       "         0.7480, 0.8152, 0.8182, 0.8024, 0.7676, 0.8019, 0.8415, 0.7906, 0.7149,\n",
       "         0.7860, 0.8007, 0.7966, 0.7861, 0.8152, 0.7715, 0.6907, 0.7106, 0.7466,\n",
       "         0.7691, 0.7251, 0.7679, 0.7532, 0.7860, 0.7942, 0.7931, 0.7478, 0.7839,\n",
       "         0.7110, 0.7809, 0.7757, 0.8512, 0.7934, 0.7129, 0.8512, 0.7258, 0.7318,\n",
       "         0.8310, 0.8211, 0.7522, 0.7291, 0.7637, 0.8110, 0.7851, 0.8086, 0.7510,\n",
       "         0.7681, 0.7842, 0.7960, 0.7226, 0.8000, 0.7519, 0.7579, 0.7117, 0.7828,\n",
       "         0.8505]], device='cuda:0')"
      ]
     },
     "execution_count": 8,
     "metadata": {},
     "output_type": "execute_result"
    }
   ],
   "source": [
    "optim = torch.optim.Adam(patchmodel.parameters(), lr=0.0001)\n",
    "train_epoch(patchmodel,700,device,patch_trn_dl,optim,patch_trn_ds, patch_tst_dl)"
   ]
  },
  {
   "cell_type": "code",
   "execution_count": 9,
   "metadata": {},
   "outputs": [],
   "source": [
    "scaler = patchdata.get_scaler()"
   ]
  },
  {
   "cell_type": "code",
   "execution_count": 10,
   "metadata": {},
   "outputs": [
    {
     "data": {
      "image/png": "[encoded data removed]",
      "text/plain": [
       "<Figure size 640x480 with 1 Axes>"
      ]
     },
     "metadata": {},
     "output_type": "display_data"
    }
   ],
   "source": [
    "\n",
    "\n",
    "patchmodel.eval()\n",
    "with torch.inference_mode():\n",
    "  x, y = next(iter(patch_tst_dl))\n",
    "  x, y = x.cuda(), y.cuda()\n",
    "  p = patchmodel(x)\n",
    "\n",
    "y = scaler.inverse_transform(y.cpu())\n",
    "p = scaler.inverse_transform(p.cpu())\n",
    "\n",
    "y = np.concatenate([y[:,0], y[-1,1:]])\n",
    "p = np.concatenate([p[:,0], p[-1,1:]])\n",
    "\n",
    "plt.title(f\"PatchTST, MAPE:{mape(p,y):.4f}, MAE:{mae(p,y):.4f}, R2:{r2_score(p,y):.4f}\")\n",
    "plt.plot(range(tst_size), y, label=\"True\")\n",
    "plt.plot(range(tst_size), p, label=\"Prediction\")\n",
    "plt.legend()\n",
    "plt.show()"
   ]
  },
  {
   "cell_type": "code",
   "execution_count": 11,
   "metadata": {},
   "outputs": [],
   "source": [
    "window_size = int(n_patch * patch_length/2)\n",
    "eval = trn[-window_size:]\n",
    "eval = eval.to_numpy()\n",
    "eval = scaler.transform(eval.reshape(-1, 1))\n",
    "last8 = eval[-1]\n",
    "eval = eval.squeeze()\n",
    "eval_concat = np.concatenate([eval, last8*np.ones(int(patch_length/2),dtype=np.float32)])  "
   ]
  },
  {
   "cell_type": "code",
   "execution_count": 12,
   "metadata": {},
   "outputs": [],
   "source": [
    "x = np.array([eval_concat[i*int(patch_length/2):(i+2)*int(patch_length/2)] for i in range(n_patch)])  ##dataset"
   ]
  },
  {
   "cell_type": "code",
   "execution_count": 13,
   "metadata": {},
   "outputs": [
    {
     "data": {
      "text/plain": [
       "tensor([[0.7402, 0.8072, 0.7758, 0.7383, 0.7321, 0.7976, 0.8072, 0.7920, 0.8112,\n",
       "         0.8323, 0.8015, 0.8286, 0.8127, 0.7942, 0.7927, 0.8183, 0.8077, 0.7557,\n",
       "         0.7760, 0.7978, 0.7417, 0.7839, 0.7651, 0.7788, 0.7382, 0.7394, 0.8118,\n",
       "         0.7924, 0.7121, 0.7628, 0.7280, 0.7267, 0.7368, 0.8221, 0.8392, 0.7962,\n",
       "         0.7686, 0.7432, 0.8006, 0.7897, 0.7230, 0.7965, 0.7682, 0.7866, 0.7803,\n",
       "         0.7480, 0.8152, 0.8182, 0.8024, 0.7676, 0.8019, 0.8415, 0.7906, 0.7149,\n",
       "         0.7860, 0.8007, 0.7966, 0.7861, 0.8152, 0.7715, 0.6907, 0.7106, 0.7466,\n",
       "         0.7691, 0.7251, 0.7679, 0.7532, 0.7860, 0.7942, 0.7931, 0.7478, 0.7839,\n",
       "         0.7110, 0.7809, 0.7757, 0.8512, 0.7934, 0.7129, 0.8512, 0.7258, 0.7318,\n",
       "         0.8310, 0.8211, 0.7522, 0.7291, 0.7637, 0.8110, 0.7851, 0.8086, 0.7510,\n",
       "         0.7681, 0.7842, 0.7960, 0.7226, 0.8000, 0.7519, 0.7579, 0.7117, 0.7828,\n",
       "         0.8505]], device='cuda:0', grad_fn=<SigmoidBackward0>)"
      ]
     },
     "execution_count": 13,
     "metadata": {},
     "output_type": "execute_result"
    }
   ],
   "source": [
    "x_tensor = torch.tensor(x, dtype=torch.float32).to(device)\n",
    "y=patchmodel(x_tensor)\n",
    "y"
   ]
  },
  {
   "cell_type": "code",
   "execution_count": null,
   "metadata": {},
   "outputs": [],
   "source": [
    "y = y.detach().cpu().numpy()\n",
    "scaler = patchdata.get_scaler()\n",
    "preds = scaler.inverse_transform(y).squeeze()"
   ]
  },
  {
   "cell_type": "code",
   "execution_count": null,
   "metadata": {},
   "outputs": [],
   "source": [
    "# 장기예측 plot\n",
    "#plt.title(f\"PatchTST (extended dataset), MAPE:{mape(preds,data.Temperature[-20:].to_numpy()):.4f}, MAE:{mae(preds,data.Temperature[-20:].to_numpy()):.4f}, R2:{r2_score(preds,data.Temperature[-20:].to_numpy())(p,y):.4f}\")\n",
    "df = pd.DataFrame({\"Patch_long\": preds}, index=tst.index)\n",
    "plt.title(f\"PatchTST-single, MAPE:{mape(preds,data.Temperature[-tst_size:].to_numpy()):.4f}, MAE:{mae(preds,data.Temperature[-tst_size:].to_numpy()):.4f}, R2:{r2_score(preds,data.Temperature[-tst_size:].to_numpy()):.4f}\")\n",
    "trn, tst = data.Temperature[:-tst_size], data.Temperature[-tst_size:]\n",
    "ax = tst.plot(label=\"TRUE\")\n",
    "df.plot(ax=ax)"
   ]
  },
  {
   "cell_type": "code",
   "execution_count": null,
   "metadata": {},
   "outputs": [],
   "source": [
    "torch.save(patchmodel.state_dict(), 'tst_size(100)_front_1000numlayer4Adam_single8020_patchTST.pth')"
   ]
  },
  {
   "cell_type": "markdown",
   "metadata": {},
   "source": [
    "# rolling_mean 채널 붙이기"
   ]
  },
  {
   "cell_type": "code",
   "execution_count": 14,
   "metadata": {},
   "outputs": [],
   "source": [
    "m_data['rolling_mean'] = data.Temperature.rolling(12).mean()\n",
    "m_data['diff1'] = data.Temperature.diff(1)\n",
    "m_data = m_data.dropna()\n",
    "scaler2 = MinMaxScaler()\n",
    "scaler3 = MinMaxScaler()\n",
    "trn2_scaled = scaler2.fit_transform(m_data['rolling_mean'][:-tst_size].to_numpy(dtype=np.float32).reshape(-1,1)).flatten()\n",
    "trn3_scaled = scaler3.fit_transform(m_data['diff1'][:-tst_size].to_numpy(dtype=np.float32).reshape(-1,1)).flatten()\n",
    "\n",
    "trn2_ds = PatchTSDataset(trn2_scaled, patch_length, n_patch, tst_size)\n",
    "trn3_ds = PatchTSDataset(trn3_scaled, patch_length, n_patch, tst_size)\n",
    "\n",
    "trn4_ds = torch.utils.data.ConcatDataset([patch_trn_ds, trn2_ds, trn3_ds])\n",
    "\n",
    "trn_dl4 = torch.utils.data.DataLoader(trn4_ds, batch_size=32, shuffle=True)"
   ]
  },
  {
   "cell_type": "code",
   "execution_count": 15,
   "metadata": {},
   "outputs": [
    {
     "data": {
      "text/plain": [
       "PatchTST(\n",
       "  (patch_embedding): Linear(in_features=80, out_features=128, bias=True)\n",
       "  (transformer_encoder): TransformerEncoder(\n",
       "    (layers): ModuleList(\n",
       "      (0-2): 3 x TransformerEncoderLayer(\n",
       "        (self_attn): MultiheadAttention(\n",
       "          (out_proj): NonDynamicallyQuantizableLinear(in_features=128, out_features=128, bias=True)\n",
       "        )\n",
       "        (linear1): Linear(in_features=128, out_features=2048, bias=True)\n",
       "        (dropout): Dropout(p=0.1, inplace=False)\n",
       "        (linear2): Linear(in_features=2048, out_features=128, bias=True)\n",
       "        (norm1): LayerNorm((128,), eps=1e-05, elementwise_affine=True)\n",
       "        (norm2): LayerNorm((128,), eps=1e-05, elementwise_affine=True)\n",
       "        (dropout1): Dropout(p=0.1, inplace=False)\n",
       "        (dropout2): Dropout(p=0.1, inplace=False)\n",
       "      )\n",
       "    )\n",
       "  )\n",
       "  (output_layer): Linear(in_features=512, out_features=100, bias=True)\n",
       ")"
      ]
     },
     "execution_count": 15,
     "metadata": {},
     "output_type": "execute_result"
    }
   ],
   "source": [
    "patchmodel2 = PatchTST(n_patch, patch_length, patch_model_dim, patch_num_heads, patch_num_layers, patch_output_dim)\n",
    "patchmodel2.cuda()"
   ]
  },
  {
   "cell_type": "code",
   "execution_count": 16,
   "metadata": {},
   "outputs": [
    {
     "name": "stderr",
     "output_type": "stream",
     "text": [
      "100%|██████████| 500/500 [10:28<00:00,  1.26s/it, loss=0.00051, tst_loss=0.0194] \n"
     ]
    },
    {
     "data": {
      "text/plain": [
       "tensor([[0.7716, 0.8270, 0.8157, 0.8104, 0.7632, 0.8125, 0.8119, 0.8368, 0.8343,\n",
       "         0.8221, 0.8386, 0.7711, 0.7849, 0.8204, 0.8288, 0.8157, 0.8284, 0.7913,\n",
       "         0.7870, 0.8065, 0.7884, 0.8229, 0.7704, 0.7934, 0.7937, 0.7754, 0.8382,\n",
       "         0.8157, 0.7701, 0.8125, 0.8240, 0.7938, 0.7944, 0.7895, 0.8020, 0.7847,\n",
       "         0.7504, 0.7814, 0.7580, 0.7908, 0.8096, 0.7816, 0.7534, 0.8266, 0.8098,\n",
       "         0.7999, 0.8516, 0.8215, 0.8040, 0.7967, 0.8230, 0.8426, 0.7729, 0.7652,\n",
       "         0.8184, 0.7848, 0.8163, 0.7932, 0.8243, 0.7524, 0.7895, 0.7587, 0.7863,\n",
       "         0.8405, 0.7782, 0.7708, 0.7394, 0.7597, 0.7779, 0.8168, 0.8042, 0.8009,\n",
       "         0.7587, 0.7195, 0.7616, 0.8644, 0.7917, 0.7670, 0.7968, 0.7544, 0.8032,\n",
       "         0.8005, 0.8218, 0.7895, 0.7270, 0.7912, 0.8594, 0.8020, 0.8244, 0.7967,\n",
       "         0.7576, 0.7888, 0.7596, 0.7964, 0.8193, 0.7844, 0.7572, 0.7818, 0.7705,\n",
       "         0.8369]], device='cuda:0')"
      ]
     },
     "execution_count": 16,
     "metadata": {},
     "output_type": "execute_result"
    }
   ],
   "source": [
    "optim = torch.optim.Adam(patchmodel2.parameters(), lr=0.0001)\n",
    "train_epoch(patchmodel2,500,device,trn_dl4,optim,trn4_ds, patch_tst_dl)"
   ]
  },
  {
   "cell_type": "code",
   "execution_count": 17,
   "metadata": {},
   "outputs": [],
   "source": [
    "scaler = patchdata.get_scaler()\n",
    "y=patchmodel2(x_tensor)\n",
    "y = y.detach().cpu().numpy()\n",
    "preds2 = scaler.inverse_transform(y).squeeze()"
   ]
  },
  {
   "cell_type": "code",
   "execution_count": 18,
   "metadata": {},
   "outputs": [
    {
     "name": "stdout",
     "output_type": "stream",
     "text": [
      "MAPE:  26.804430252354315\n",
      "MAE:  0.34114028565883636\n",
      "R2_Score:  -2.684559529918117\n"
     ]
    },
    {
     "data": {
      "text/plain": [
       "<Axes: title={'center': 'PatchTSTextended, MAPE:26.8044, MAE:0.3411, R2:-2.6846'}, xlabel='YearMonth'>"
      ]
     },
     "execution_count": 18,
     "metadata": {},
     "output_type": "execute_result"
    },
    {
     "data": {
      "image/png": "[encoded data removed]",
      "text/plain": [
       "<Figure size 640x480 with 1 Axes>"
      ]
     },
     "metadata": {},
     "output_type": "display_data"
    }
   ],
   "source": [
    "mape2 = mape(preds2,data.Temperature[-tst_size:].to_numpy())\n",
    "print(\"MAPE: \",mape2)\n",
    "mae2 = mae(preds2,data.Temperature[-tst_size:].to_numpy())\n",
    "print(\"MAE: \",mae2)\n",
    "r2_score2 = r2_score(preds2,data.Temperature[-tst_size:].to_numpy())\n",
    "print(\"R2_Score: \", r2_score2)\n",
    "\n",
    "# 장기예측 plot\n",
    "plt.title(f\"PatchTSTextended, MAPE:{mape(preds2,data.Temperature[-tst_size:].to_numpy()):.4f}, MAE:{mae(preds2,data.Temperature[-tst_size:].to_numpy()):.4f}, R2:{r2_score(preds2,data.Temperature[-tst_size:].to_numpy()):.4f}\")\n",
    "df = pd.DataFrame({\"Patch_long\": preds2}, index=tst.index)\n",
    "trn, tst = data.Temperature[:-tst_size], data.Temperature[-tst_size:]\n",
    "ax = tst.plot(label=\"TRUE\")\n",
    "df.plot(ax=ax)"
   ]
  },
  {
   "cell_type": "code",
   "execution_count": 19,
   "metadata": {},
   "outputs": [],
   "source": [
    "torch.save(patchmodel2.state_dict(), 'tst_size(100)_front1000Adam_multi164_patchTST_layer4_compare.pth')"
   ]
  }
 ],
 "metadata": {
  "kernelspec": {
   "display_name": "MathAI",
   "language": "python",
   "name": "python3"
  },
  "language_info": {
   "codemirror_mode": {
    "name": "ipython",
    "version": 3
   },
   "file_extension": ".py",
   "mimetype": "text/x-python",
   "name": "python",
   "nbconvert_exporter": "python",
   "pygments_lexer": "ipython3",
   "version": "3.10.13"
  }
 },
 "nbformat": 4,
 "nbformat_minor": 2
}
